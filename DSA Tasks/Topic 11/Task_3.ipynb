{
 "cells": [
  {
   "cell_type": "markdown",
   "id": "0c699f3d",
   "metadata": {},
   "source": [
    "### Implementing a Caching Mechanism using Hashing (LRU Cache)"
   ]
  },
  {
   "cell_type": "code",
   "execution_count": 1,
   "id": "17a578d2",
   "metadata": {},
   "outputs": [
    {
     "name": "stdout",
     "output_type": "stream",
     "text": [
      "A\n",
      "-1\n"
     ]
    }
   ],
   "source": [
    "class Node:\n",
    "    def __init__(self, key, value):\n",
    "        self.key = key\n",
    "        self.value = value\n",
    "        self.prev = None\n",
    "        self.next = None\n",
    "\n",
    "class LRUCache:\n",
    "    def __init__(self, capacity):\n",
    "        self.capacity = capacity\n",
    "        self.cache = {}\n",
    "        self.head = Node(0, 0)\n",
    "        self.tail = Node(0, 0)\n",
    "        self.head.next = self.tail\n",
    "        self.tail.prev = self.head\n",
    "\n",
    "    def remove(self, node):\n",
    "        p = node.prev\n",
    "        n = node.next\n",
    "        p.next = n\n",
    "        n.prev = p\n",
    "\n",
    "    def add(self, node):\n",
    "        p = self.head.next\n",
    "        self.head.next = node\n",
    "        node.prev = self.head\n",
    "        node.next = p\n",
    "        p.prev = node\n",
    "\n",
    "    def get(self, key):\n",
    "        if key in self.cache:\n",
    "            node = self.cache[key]\n",
    "            self.remove(node)\n",
    "            self.add(node)\n",
    "            return node.value\n",
    "        return -1\n",
    "\n",
    "    def put(self, key, value):\n",
    "        if key in self.cache:\n",
    "            self.remove(self.cache[key])\n",
    "        node = Node(key, value)\n",
    "        self.add(node)\n",
    "        self.cache[key] = node\n",
    "        if len(self.cache) > self.capacity:\n",
    "            n = self.tail.prev\n",
    "            self.remove(n)\n",
    "            del self.cache[n.key]\n",
    "\n",
    "cache = LRUCache(2)\n",
    "cache.put(1, \"A\")\n",
    "cache.put(2, \"B\")\n",
    "print(cache.get(1))\n",
    "cache.put(3, \"C\")\n",
    "print(cache.get(2))\n"
   ]
  },
  {
   "cell_type": "code",
   "execution_count": null,
   "id": "d710db4b",
   "metadata": {},
   "outputs": [],
   "source": []
  }
 ],
 "metadata": {
  "kernelspec": {
   "display_name": "Python 3",
   "language": "python",
   "name": "python3"
  },
  "language_info": {
   "codemirror_mode": {
    "name": "ipython",
    "version": 3
   },
   "file_extension": ".py",
   "mimetype": "text/x-python",
   "name": "python",
   "nbconvert_exporter": "python",
   "pygments_lexer": "ipython3",
   "version": "3.12.4"
  }
 },
 "nbformat": 4,
 "nbformat_minor": 5
}
