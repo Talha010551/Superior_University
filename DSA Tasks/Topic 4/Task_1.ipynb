{
 "cells": [
  {
   "cell_type": "markdown",
   "id": "ad2828e6",
   "metadata": {},
   "source": [
    "### Stacks & Queues\n",
    "#### Implementing a Stack Using Arrays and Linked Lists"
   ]
  },
  {
   "cell_type": "code",
   "execution_count": 2,
   "id": "e447ff3e",
   "metadata": {},
   "outputs": [
    {
     "name": "stdout",
     "output_type": "stream",
     "text": [
      "Top element: 30\n",
      "Size: 3\n",
      "Popped element: 30\n",
      "Is stack empty? False\n",
      "\n",
      "Testing Stack using Linked List\n",
      "Top element: 300\n",
      "Size: 3\n",
      "Popped element: 300\n",
      "Is stack empty? False\n"
     ]
    }
   ],
   "source": [
    "class Stack_Array:\n",
    "    def __init__(self):\n",
    "        self.stack = []\n",
    "\n",
    "    def push(self, item):\n",
    "        self.stack.append(item)\n",
    "        \n",
    "    def pop(self):\n",
    "        if self.is_empty():\n",
    "            return \"Stack is empty\"\n",
    "        return self.stack.pop()\n",
    "\n",
    "    def peek(self):\n",
    "        if self.is_empty():\n",
    "            return \"Stack is empty\"\n",
    "        return self.stack[-1]\n",
    "\n",
    "    def is_empty(self):\n",
    "        return len(self.stack) == 0\n",
    "    \n",
    "    def size(self):\n",
    "        return len(self.stack)\n",
    "\n",
    "\n",
    "class Node:\n",
    "    def __init__(self, data):\n",
    "        self.data = data\n",
    "        self.next = None\n",
    "\n",
    "class StackLinkedList:\n",
    "    def __init__(self):\n",
    "        self.top = None\n",
    "        self.count = 0\n",
    "\n",
    "    def push(self, element):\n",
    "        new_node = Node(element)\n",
    "        new_node.next = self.top\n",
    "        self.top = new_node\n",
    "        self.count += 1\n",
    "\n",
    "    def pop(self):\n",
    "        if self.is_empty():\n",
    "            return \"Stack is empty!\"\n",
    "        popped = self.top.data\n",
    "        self.top = self.top.next\n",
    "        self.count -= 1\n",
    "        return popped\n",
    "\n",
    "    def peek(self):\n",
    "        if self.is_empty():\n",
    "            return \"Stack is empty!\"\n",
    "        return self.top.data\n",
    "\n",
    "    def is_empty(self):\n",
    "        return self.top is None\n",
    "\n",
    "    def size(self):\n",
    "        return self.count\n",
    "\n",
    "stack_array = Stack_Array()\n",
    "stack_array.push(10)\n",
    "stack_array.push(20)\n",
    "stack_array.push(30)\n",
    "print(\"Top element:\", stack_array.peek())\n",
    "print(\"Size:\", stack_array.size())\n",
    "print(\"Popped element:\", stack_array.pop())\n",
    "print(\"Is stack empty?\", stack_array.is_empty())\n",
    "print()\n",
    "\n",
    "print(\"Testing Stack using Linked List\")\n",
    "stack_linked = StackLinkedList()\n",
    "stack_linked.push(100)\n",
    "stack_linked.push(200)\n",
    "stack_linked.push(300)\n",
    "print(\"Top element:\", stack_linked.peek())\n",
    "print(\"Size:\", stack_linked.size())\n",
    "print(\"Popped element:\", stack_linked.pop())\n",
    "print(\"Is stack empty?\", stack_linked.is_empty())\n"
   ]
  },
  {
   "cell_type": "markdown",
   "id": "37e8d100",
   "metadata": {},
   "source": [
    "# Next Part"
   ]
  },
  {
   "cell_type": "markdown",
   "id": "e64934a5-c99b-4283-a543-213d1944a0b7",
   "metadata": {},
   "source": [
    "### Evaluate Postfix Expression Using Stack"
   ]
  },
  {
   "cell_type": "code",
   "execution_count": 1,
   "id": "edd26452-c5a8-4233-beb1-fe692f6f4ef5",
   "metadata": {},
   "outputs": [
    {
     "name": "stdout",
     "output_type": "stream",
     "text": [
      "Expression 1: 5 1 2 + 4 * + 3 -\n",
      "Result: 14\n",
      "\n",
      "Expression 2: 2 3 1 * + 9 -\n",
      "Result: -4\n",
      "\n",
      "Expression 3: 10 2 8 * + 3 -\n",
      "Result: 23\n"
     ]
    }
   ],
   "source": [
    "def evaluate_postfix(expression):\n",
    "    stack = []\n",
    "    tokens = expression.split()\n",
    "\n",
    "    for token in tokens:\n",
    "        if token.isdigit():\n",
    "            stack.append(int(token))\n",
    "        else:\n",
    "            b = stack.pop()\n",
    "            a = stack.pop()\n",
    "\n",
    "            if token == '+':\n",
    "                result = a + b\n",
    "            elif token == '-':\n",
    "                result = a - b\n",
    "            elif token == '*':\n",
    "                result = a * b\n",
    "            elif token == '/':\n",
    "                result = a / b  \n",
    "            else:\n",
    "                return \"Invalid operator!\"\n",
    "\n",
    "            stack.append(result)\n",
    "\n",
    "    return stack.pop()\n",
    "\n",
    "expr1 = \"5 1 2 + 4 * + 3 -\"\n",
    "print(\"Expression 1:\", expr1)\n",
    "print(\"Result:\", evaluate_postfix(expr1))  \n",
    "\n",
    "expr2 = \"2 3 1 * + 9 -\"\n",
    "print(\"\\nExpression 2:\", expr2)\n",
    "print(\"Result:\", evaluate_postfix(expr2))  \n",
    "\n",
    "expr3 = \"10 2 8 * + 3 -\"\n",
    "print(\"\\nExpression 3:\", expr3)\n",
    "print(\"Result:\", evaluate_postfix(expr3)) "
   ]
  },
  {
   "cell_type": "markdown",
   "id": "2b325b8a-5560-4013-8d58-2894b76ef612",
   "metadata": {},
   "source": [
    "# Next Part"
   ]
  },
  {
   "cell_type": "markdown",
   "id": "3f095d52-9c35-4880-8099-a8bc6c9d3073",
   "metadata": {},
   "source": [
    "### Implementing a Circular Queue"
   ]
  },
  {
   "cell_type": "code",
   "execution_count": 2,
   "id": "7d40add1-e5cf-488a-8d34-2f794305653b",
   "metadata": {},
   "outputs": [
    {
     "name": "stdout",
     "output_type": "stream",
     "text": [
      "Front element: 20\n",
      "Rear element: 60\n"
     ]
    }
   ],
   "source": [
    "class CircularQueue:\n",
    "    def __init__(self, size):\n",
    "        self.size = size\n",
    "        self.queue = [None] * size\n",
    "        self.front_index = -1\n",
    "        self.rear_index = -1\n",
    "\n",
    "    def enqueue(self, element):\n",
    "        if self.is_full():\n",
    "            print(\"Queue is full!\")\n",
    "            return\n",
    "\n",
    "        if self.is_empty():\n",
    "            self.front_index = 0\n",
    "\n",
    "        self.rear_index = (self.rear_index + 1) % self.size\n",
    "        self.queue[self.rear_index] = element\n",
    "\n",
    "    def dequeue(self):\n",
    "        if self.is_empty():\n",
    "            print(\"Queue is empty!\")\n",
    "            return\n",
    "\n",
    "        removed = self.queue[self.front_index]\n",
    "        if self.front_index == self.rear_index:\n",
    "            # Queue becomes empty\n",
    "            self.front_index = -1\n",
    "            self.rear_index = -1\n",
    "        else:\n",
    "            self.front_index = (self.front_index + 1) % self.size\n",
    "\n",
    "        return removed\n",
    "\n",
    "    def front(self):\n",
    "        if self.is_empty():\n",
    "            return \"Queue is empty!\"\n",
    "        return self.queue[self.front_index]\n",
    "\n",
    "    def rear(self):\n",
    "        if self.is_empty():\n",
    "            return \"Queue is empty!\"\n",
    "        return self.queue[self.rear_index]\n",
    "\n",
    "    def is_empty(self):\n",
    "        return self.front_index == -1\n",
    "\n",
    "    def is_full(self):\n",
    "        return (self.rear_index + 1) % self.size == self.front_index\n",
    "\n",
    "cq = CircularQueue(5)\n",
    "\n",
    "cq.enqueue(10)\n",
    "cq.enqueue(20)\n",
    "cq.enqueue(30)\n",
    "cq.enqueue(40)\n",
    "cq.enqueue(50)\n",
    "cq.dequeue()\n",
    "cq.enqueue(60)\n",
    "\n",
    "print(\"Front element:\", cq.front())  # Expected: 20\n",
    "print(\"Rear element:\", cq.rear())    # Expected: 60\n"
   ]
  },
  {
   "cell_type": "code",
   "execution_count": null,
   "id": "5bd6e296-6257-44a4-9b52-46b8d0c62cc2",
   "metadata": {},
   "outputs": [],
   "source": []
  }
 ],
 "metadata": {
  "kernelspec": {
   "display_name": "Python 3 (ipykernel)",
   "language": "python",
   "name": "python3"
  },
  "language_info": {
   "codemirror_mode": {
    "name": "ipython",
    "version": 3
   },
   "file_extension": ".py",
   "mimetype": "text/x-python",
   "name": "python",
   "nbconvert_exporter": "python",
   "pygments_lexer": "ipython3",
   "version": "3.11.7"
  }
 },
 "nbformat": 4,
 "nbformat_minor": 5
}
