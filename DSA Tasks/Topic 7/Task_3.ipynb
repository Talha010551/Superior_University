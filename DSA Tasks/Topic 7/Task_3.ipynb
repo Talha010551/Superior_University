{
 "cells": [
  {
   "cell_type": "markdown",
   "id": "23b32d9e",
   "metadata": {},
   "source": [
    "### Finding the K Smallest and K Largest Elements Using a Heap"
   ]
  },
  {
   "cell_type": "code",
   "execution_count": 1,
   "id": "af5af2c7",
   "metadata": {},
   "outputs": [
    {
     "name": "stdout",
     "output_type": "stream",
     "text": [
      "[3, 4, 7]\n",
      "[20, 15]\n"
     ]
    }
   ],
   "source": [
    "import heapq\n",
    "\n",
    "def find_k_smallest(arr, k):\n",
    "    return heapq.nsmallest(k, arr)\n",
    "\n",
    "def find_k_largest(arr, k):\n",
    "    return heapq.nlargest(k, arr)\n",
    "\n",
    "arr = [10, 4, 3, 20, 15, 7]\n",
    "print(find_k_smallest(arr, 3)) \n",
    "print(find_k_largest(arr, 2))  \n"
   ]
  },
  {
   "cell_type": "markdown",
   "id": "c2b3cad8",
   "metadata": {},
   "source": []
  }
 ],
 "metadata": {
  "kernelspec": {
   "display_name": "Python 3",
   "language": "python",
   "name": "python3"
  },
  "language_info": {
   "codemirror_mode": {
    "name": "ipython",
    "version": 3
   },
   "file_extension": ".py",
   "mimetype": "text/x-python",
   "name": "python",
   "nbconvert_exporter": "python",
   "pygments_lexer": "ipython3",
   "version": "3.12.4"
  }
 },
 "nbformat": 4,
 "nbformat_minor": 5
}
