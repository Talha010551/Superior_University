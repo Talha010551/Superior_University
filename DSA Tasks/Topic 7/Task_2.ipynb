{
 "cells": [
  {
   "cell_type": "markdown",
   "id": "9a9f8466",
   "metadata": {},
   "source": [
    "### Implementing a Priority Queue Using a Heap"
   ]
  },
  {
   "cell_type": "code",
   "execution_count": 1,
   "id": "1e485cb0",
   "metadata": {},
   "outputs": [
    {
     "name": "stdout",
     "output_type": "stream",
     "text": [
      "Task B\n",
      "Task C\n"
     ]
    }
   ],
   "source": [
    "import heapq\n",
    "\n",
    "class PriorityQueue:\n",
    "    def __init__(self):\n",
    "        self.heap = []\n",
    "        self.count = 0\n",
    "\n",
    "    def enqueue(self, value, priority):\n",
    "        heapq.heappush(self.heap, (priority, self.count, value))\n",
    "        self.count += 1\n",
    "\n",
    "    def dequeue(self):\n",
    "        if self.heap:\n",
    "            return heapq.heappop(self.heap)[2]\n",
    "        return None\n",
    "\n",
    "    def peek(self):\n",
    "        if self.heap:\n",
    "            return self.heap[0][2]\n",
    "        return None\n",
    "\n",
    "pq = PriorityQueue()\n",
    "pq.enqueue(\"Task A\", 3)\n",
    "pq.enqueue(\"Task B\", 1)\n",
    "pq.enqueue(\"Task C\", 2)\n",
    "print(pq.dequeue())  \n",
    "print(pq.peek())     \n",
    "\n"
   ]
  },
  {
   "cell_type": "markdown",
   "id": "bba10527",
   "metadata": {},
   "source": []
  }
 ],
 "metadata": {
  "kernelspec": {
   "display_name": "Python 3",
   "language": "python",
   "name": "python3"
  },
  "language_info": {
   "codemirror_mode": {
    "name": "ipython",
    "version": 3
   },
   "file_extension": ".py",
   "mimetype": "text/x-python",
   "name": "python",
   "nbconvert_exporter": "python",
   "pygments_lexer": "ipython3",
   "version": "3.12.4"
  }
 },
 "nbformat": 4,
 "nbformat_minor": 5
}
