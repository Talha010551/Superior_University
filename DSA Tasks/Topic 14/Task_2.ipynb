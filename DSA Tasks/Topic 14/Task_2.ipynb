{
 "cells": [
  {
   "cell_type": "markdown",
   "id": "326c2d7f",
   "metadata": {},
   "source": [
    "###  Implementing the Longest Common Subsequence (LCS) Algorithm"
   ]
  },
  {
   "cell_type": "code",
   "execution_count": 2,
   "id": "dc880a12",
   "metadata": {},
   "outputs": [
    {
     "name": "stdout",
     "output_type": "stream",
     "text": [
      "GTAB\n",
      "GTAB\n"
     ]
    }
   ],
   "source": [
    "def lcs_memoization(x, y, memo={}):\n",
    "    m, n = len(x), len(y)\n",
    "    if m == 0 or n == 0:\n",
    "        return \"\"\n",
    "    if (m, n) not in memo:\n",
    "        if x[m - 1] == y[n - 1]:\n",
    "            memo[(m, n)] = lcs_memoization(x, y[:n - 1], memo) + x[m - 1]\n",
    "        else:\n",
    "            memo[(m, n)] = max(lcs_memoization(x[:m - 1], y, memo), lcs_memoization(x, y[:n - 1], memo), key=len)\n",
    "    return memo[(m, n)]\n",
    "\n",
    "def lcs_tabulation(x, y):\n",
    "    m, n = len(x), len(y)\n",
    "    dp = [[\"\" for _ in range(n + 1)] for _ in range(m + 1)]\n",
    "    \n",
    "    for i in range(1, m + 1):\n",
    "        for j in range(1, n + 1):\n",
    "            if x[i - 1] == y[j - 1]:\n",
    "                dp[i][j] = dp[i - 1][j - 1] + x[i - 1]\n",
    "            else:\n",
    "                dp[i][j] = max(dp[i - 1][j], dp[i][j - 1], key=len)\n",
    "    \n",
    "    return dp[m][n]\n",
    "\n",
    "print(lcs_memoization(\"AGGTAB\", \"GXTXAYB\"))  \n",
    "print(lcs_tabulation(\"AGGTAB\", \"GXTXAYB\"))\n"
   ]
  },
  {
   "cell_type": "code",
   "execution_count": null,
   "id": "940aa05a",
   "metadata": {},
   "outputs": [],
   "source": []
  }
 ],
 "metadata": {
  "kernelspec": {
   "display_name": "Python 3",
   "language": "python",
   "name": "python3"
  },
  "language_info": {
   "codemirror_mode": {
    "name": "ipython",
    "version": 3
   },
   "file_extension": ".py",
   "mimetype": "text/x-python",
   "name": "python",
   "nbconvert_exporter": "python",
   "pygments_lexer": "ipython3",
   "version": "3.12.4"
  }
 },
 "nbformat": 4,
 "nbformat_minor": 5
}
