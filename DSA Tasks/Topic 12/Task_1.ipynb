{
 "cells": [
  {
   "cell_type": "markdown",
   "id": "1e5a5220",
   "metadata": {},
   "source": [
    "## Graph Data Structure\n",
    "### Implementing a Graph Using Adjacency List & Adjacency Matrix"
   ]
  },
  {
   "cell_type": "code",
   "execution_count": 4,
   "id": "ca1666ba",
   "metadata": {},
   "outputs": [
    {
     "name": "stdout",
     "output_type": "stream",
     "text": [
      "Adjacency List: {'A': ['B'], 'B': []}\n",
      "Adjacency Matrix:\n",
      "  A B\n",
      "A 0 1\n",
      "B 0 0\n"
     ]
    }
   ],
   "source": [
    "class Graph:\n",
    "    def __init__(self, directed=True):\n",
    "        self.directed = directed\n",
    "        self.adj_list = {}\n",
    "        self.adj_matrix = []\n",
    "\n",
    "    def add_vertex(self, vertex):\n",
    "        if vertex not in self.adj_list:\n",
    "            self.adj_list[vertex] = []\n",
    "            \n",
    "            for row in self.adj_matrix:\n",
    "                row.append(0)\n",
    "            self.adj_matrix.append([0] * len(self.adj_matrix) + [0])\n",
    "\n",
    "    def add_edge(self, src, dest):\n",
    "        if src not in self.adj_list:\n",
    "            self.add_vertex(src)\n",
    "        if dest not in self.adj_list:\n",
    "            self.add_vertex(dest)\n",
    "        \n",
    "        self.adj_list[src].append(dest)\n",
    "        self.adj_matrix[self.get_vertex_index(src)][self.get_vertex_index(dest)] = 1\n",
    "        if not self.directed:\n",
    "            self.adj_matrix[self.get_vertex_index(dest)][self.get_vertex_index(src)] = 1\n",
    "\n",
    "    def get_vertex_index(self, vertex):\n",
    "        return list(self.adj_list.keys()).index(vertex)\n",
    "\n",
    "    def display_adj_list(self):\n",
    "        print(\"Adjacency List:\", self.adj_list)\n",
    "\n",
    "    def display_adj_matrix(self):\n",
    "        print(\"Adjacency Matrix:\")\n",
    "        vertices = list(self.adj_list.keys())\n",
    "        print(\" \", \" \".join(vertices))\n",
    "        for i in range(len(vertices)):\n",
    "            print(vertices[i], \" \".join(map(str, self.adj_matrix[i])))\n",
    "\n",
    "g = Graph()\n",
    "g.add_vertex(\"A\")\n",
    "g.add_vertex(\"B\")\n",
    "g.add_edge(\"A\", \"B\")\n",
    "g.display_adj_list()\n",
    "g.display_adj_matrix()\n"
   ]
  },
  {
   "cell_type": "markdown",
   "id": "a986a40d",
   "metadata": {},
   "source": []
  }
 ],
 "metadata": {
  "kernelspec": {
   "display_name": "Python 3",
   "language": "python",
   "name": "python3"
  },
  "language_info": {
   "codemirror_mode": {
    "name": "ipython",
    "version": 3
   },
   "file_extension": ".py",
   "mimetype": "text/x-python",
   "name": "python",
   "nbconvert_exporter": "python",
   "pygments_lexer": "ipython3",
   "version": "3.12.4"
  }
 },
 "nbformat": 4,
 "nbformat_minor": 5
}
