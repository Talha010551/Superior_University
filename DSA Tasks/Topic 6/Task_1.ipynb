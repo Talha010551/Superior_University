{
 "cells": [
  {
   "cell_type": "markdown",
   "id": "245d51e4",
   "metadata": {},
   "source": [
    "## Trees & Binary Search Trees (BST)\n",
    "### Implementing a Binary Search Tree (BST) with Basic Operations"
   ]
  },
  {
   "cell_type": "code",
   "execution_count": 1,
   "id": "e12493db",
   "metadata": {},
   "outputs": [
    {
     "name": "stdout",
     "output_type": "stream",
     "text": [
      "20 30 40 50 60 70 80 \n",
      "True\n",
      "False\n",
      "40 60 70 80 \n"
     ]
    }
   ],
   "source": [
    "class Node:\n",
    "    def __init__(self, value):\n",
    "        self.value = value\n",
    "        self.left = None\n",
    "        self.right = None\n",
    "\n",
    "class BinarySearchTree:\n",
    "    def __init__(self):\n",
    "        self.root = None\n",
    "\n",
    "    def insert(self, value):\n",
    "        self.root = self._insert(self.root, value)\n",
    "\n",
    "    def _insert(self, node, value):\n",
    "        if not node:\n",
    "            return Node(value)\n",
    "        if value < node.value:\n",
    "            node.left = self._insert(node.left, value)\n",
    "        elif value > node.value:\n",
    "            node.right = self._insert(node.right, value)\n",
    "        return node\n",
    "\n",
    "    def search(self, value):\n",
    "        return self._search(self.root, value)\n",
    "\n",
    "    def _search(self, node, value):\n",
    "        if not node or node.value == value:\n",
    "            return node is not None\n",
    "        if value < node.value:\n",
    "            return self._search(node.left, value)\n",
    "        else:\n",
    "            return self._search(node.right, value)\n",
    "\n",
    "    def delete(self, value):\n",
    "        self.root = self._delete(self.root, value)\n",
    "\n",
    "    def _delete(self, node, value):\n",
    "        if not node:\n",
    "            return None\n",
    "        if value < node.value:\n",
    "            node.left = self._delete(node.left, value)\n",
    "        elif value > node.value:\n",
    "            node.right = self._delete(node.right, value)\n",
    "        else:\n",
    "            if not node.left:\n",
    "                return node.right\n",
    "            elif not node.right:\n",
    "                return node.left\n",
    "            min_larger = self._min_value_node(node.right)\n",
    "            node.value = min_larger.value\n",
    "            node.right = self._delete(node.right, min_larger.value)\n",
    "        return node\n",
    "\n",
    "    def _min_value_node(self, node):\n",
    "        current = node\n",
    "        while current.left:\n",
    "            current = current.left\n",
    "        return current\n",
    "\n",
    "    def inorder_traversal(self):\n",
    "        self._inorder(self.root)\n",
    "        print()\n",
    "\n",
    "    def _inorder(self, node):\n",
    "        if node:\n",
    "            self._inorder(node.left)\n",
    "            print(node.value, end=' ')\n",
    "            self._inorder(node.right)\n",
    "\n",
    "bst = BinarySearchTree()\n",
    "bst.insert(50)\n",
    "bst.insert(30)\n",
    "bst.insert(70)\n",
    "bst.insert(20)\n",
    "bst.insert(40)\n",
    "bst.insert(60)\n",
    "bst.insert(80)\n",
    "\n",
    "bst.inorder_traversal()  \n",
    "\n",
    "print(bst.search(40))  \n",
    "print(bst.search(90))  \n",
    "\n",
    "bst.delete(20)\n",
    "bst.delete(30)\n",
    "bst.delete(50)\n",
    "\n",
    "bst.inorder_traversal()  \n"
   ]
  },
  {
   "cell_type": "markdown",
   "id": "4f2477f3",
   "metadata": {},
   "source": []
  }
 ],
 "metadata": {
  "kernelspec": {
   "display_name": "Python 3",
   "language": "python",
   "name": "python3"
  },
  "language_info": {
   "codemirror_mode": {
    "name": "ipython",
    "version": 3
   },
   "file_extension": ".py",
   "mimetype": "text/x-python",
   "name": "python",
   "nbconvert_exporter": "python",
   "pygments_lexer": "ipython3",
   "version": "3.12.4"
  }
 },
 "nbformat": 4,
 "nbformat_minor": 5
}
