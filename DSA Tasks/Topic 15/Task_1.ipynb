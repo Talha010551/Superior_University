{
 "cells": [
  {
   "cell_type": "markdown",
   "id": "502af559",
   "metadata": {},
   "source": [
    "## Backtracking\n",
    "### Solving the N-Queens Problem Using Backtracking"
   ]
  },
  {
   "cell_type": "code",
   "execution_count": 1,
   "id": "eda24dc2",
   "metadata": {},
   "outputs": [
    {
     "name": "stdout",
     "output_type": "stream",
     "text": [
      "[['.Q..', '...Q', 'Q...', '..Q.'], ['..Q.', 'Q...', '...Q', '.Q..']]\n"
     ]
    }
   ],
   "source": [
    "def solve_n_queens(n):\n",
    "    result = []\n",
    "    board = [[\".\" for _ in range(n)] for _ in range(n)]\n",
    "\n",
    "    def is_safe(row, col):\n",
    "        for i in range(row):\n",
    "            if board[i][col] == \"Q\":\n",
    "                return False\n",
    "            if col - (row - i) >= 0 and board[i][col - (row - i)] == \"Q\":\n",
    "                return False\n",
    "            if col + (row - i) < n and board[i][col + (row - i)] == \"Q\":\n",
    "                return False\n",
    "        return True\n",
    "\n",
    "    def solve(row):\n",
    "        if row == n:\n",
    "            result.append([\"\".join(r) for r in board])\n",
    "            return\n",
    "        for col in range(n):\n",
    "            if is_safe(row, col):\n",
    "                board[row][col] = \"Q\"\n",
    "                solve(row + 1)\n",
    "                board[row][col] = \".\"\n",
    "\n",
    "    solve(0)\n",
    "    return result\n",
    "\n",
    "print(solve_n_queens(4))\n"
   ]
  },
  {
   "cell_type": "markdown",
   "id": "0cf6e9be",
   "metadata": {},
   "source": []
  }
 ],
 "metadata": {
  "kernelspec": {
   "display_name": "Python 3",
   "language": "python",
   "name": "python3"
  },
  "language_info": {
   "codemirror_mode": {
    "name": "ipython",
    "version": 3
   },
   "file_extension": ".py",
   "mimetype": "text/x-python",
   "name": "python",
   "nbconvert_exporter": "python",
   "pygments_lexer": "ipython3",
   "version": "3.12.4"
  }
 },
 "nbformat": 4,
 "nbformat_minor": 5
}
