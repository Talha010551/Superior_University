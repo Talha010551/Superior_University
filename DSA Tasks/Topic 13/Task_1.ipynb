{
 "cells": [
  {
   "cell_type": "markdown",
   "id": "e25d680d",
   "metadata": {},
   "source": [
    "## Greedy Algorithms\n",
    "###  Implementing Activity Selection Algorithm\n"
   ]
  },
  {
   "cell_type": "code",
   "execution_count": 1,
   "id": "29147baf",
   "metadata": {},
   "outputs": [
    {
     "name": "stdout",
     "output_type": "stream",
     "text": [
      "[(1, 3), (6, 8), (8, 11)]\n"
     ]
    }
   ],
   "source": [
    "def activity_selection(activities):\n",
    "    activities.sort(key=lambda x: x[1])\n",
    "    selected_activities = []\n",
    "    last_end_time = 0\n",
    "\n",
    "    for activity in activities:\n",
    "        if activity[0] >= last_end_time:\n",
    "            selected_activities.append(activity)\n",
    "            last_end_time = activity[1]\n",
    "\n",
    "    return selected_activities\n",
    "\n",
    "activities = [(1, 3), (2, 5), (3, 9), (6, 8), (8, 11)]\n",
    "print(activity_selection(activities))\n",
    "\n"
   ]
  },
  {
   "cell_type": "code",
   "execution_count": null,
   "id": "87dd5089",
   "metadata": {},
   "outputs": [],
   "source": []
  }
 ],
 "metadata": {
  "kernelspec": {
   "display_name": "Python 3",
   "language": "python",
   "name": "python3"
  },
  "language_info": {
   "codemirror_mode": {
    "name": "ipython",
    "version": 3
   },
   "file_extension": ".py",
   "mimetype": "text/x-python",
   "name": "python",
   "nbconvert_exporter": "python",
   "pygments_lexer": "ipython3",
   "version": "3.12.4"
  }
 },
 "nbformat": 4,
 "nbformat_minor": 5
}
