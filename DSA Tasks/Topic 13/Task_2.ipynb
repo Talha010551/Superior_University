{
 "cells": [
  {
   "cell_type": "markdown",
   "id": "4dc3a713",
   "metadata": {},
   "source": [
    "###  Implementing Huffman Coding for Data Compression"
   ]
  },
  {
   "cell_type": "code",
   "execution_count": 1,
   "id": "7c212586",
   "metadata": {},
   "outputs": [
    {
     "name": "stdout",
     "output_type": "stream",
     "text": [
      "Huffman Codes: {'l': '00', 'e': '01', 'y': '100', 'r': '1010', 'g': '1011', 'd': '1100', ' ': '1101', 'h': '1110', 'o': '1111'}\n",
      "Original Size: 96 bits\n",
      "Compressed Size: 37 bits\n",
      "Compression Ratio: 2.5945945945945947\n"
     ]
    }
   ],
   "source": [
    "import heapq\n",
    "from collections import defaultdict\n",
    "\n",
    "class Node:\n",
    "    def __init__(self, char, freq):\n",
    "        self.char = char\n",
    "        self.freq = freq\n",
    "        self.left = None\n",
    "        self.right = None\n",
    "\n",
    "    def __lt__(self, other):\n",
    "        return self.freq < other.freq\n",
    "\n",
    "def build_huffman_tree(text):\n",
    "    frequency = defaultdict(int)\n",
    "    for char in text:\n",
    "        frequency[char] += 1\n",
    "\n",
    "    priority_queue = [Node(char, freq) for char, freq in frequency.items()]\n",
    "    heapq.heapify(priority_queue)\n",
    "\n",
    "    while len(priority_queue) > 1:\n",
    "        left = heapq.heappop(priority_queue)\n",
    "        right = heapq.heappop(priority_queue)\n",
    "        merged = Node(None, left.freq + right.freq)\n",
    "        merged.left = left\n",
    "        merged.right = right\n",
    "        heapq.heappush(priority_queue, merged)\n",
    "\n",
    "    return priority_queue[0]\n",
    "\n",
    "def generate_huffman_codes(node, code='', codes={}):\n",
    "    if node is None:\n",
    "        return codes\n",
    "    if node.char is not None:\n",
    "        codes[node.char] = code\n",
    "    generate_huffman_codes(node.left, code + '0', codes)\n",
    "    generate_huffman_codes(node.right, code + '1', codes)\n",
    "    return codes\n",
    "\n",
    "def huffman_encoding(text):\n",
    "    root = build_huffman_tree(text)\n",
    "    return generate_huffman_codes(root)\n",
    "\n",
    "def get_compressed_data_size(text, huffman_codes):\n",
    "    return sum(len(huffman_codes[char]) * text.count(char) for char in set(text))\n",
    "\n",
    "text = \"hello greedy\"\n",
    "huffman_codes = huffman_encoding(text)\n",
    "compressed_size = get_compressed_data_size(text, huffman_codes)\n",
    "original_size = len(text) * 8\n",
    "\n",
    "print(\"Huffman Codes:\", huffman_codes)\n",
    "print(\"Original Size:\", original_size, \"bits\")\n",
    "print(\"Compressed Size:\", compressed_size, \"bits\")\n",
    "print(\"Compression Ratio:\", original_size / compressed_size)\n"
   ]
  },
  {
   "cell_type": "code",
   "execution_count": null,
   "id": "942a2941",
   "metadata": {},
   "outputs": [],
   "source": []
  }
 ],
 "metadata": {
  "kernelspec": {
   "display_name": "Python 3",
   "language": "python",
   "name": "python3"
  },
  "language_info": {
   "codemirror_mode": {
    "name": "ipython",
    "version": 3
   },
   "file_extension": ".py",
   "mimetype": "text/x-python",
   "name": "python",
   "nbconvert_exporter": "python",
   "pygments_lexer": "ipython3",
   "version": "3.12.4"
  }
 },
 "nbformat": 4,
 "nbformat_minor": 5
}
