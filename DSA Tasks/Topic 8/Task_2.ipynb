{
 "cells": [
  {
   "cell_type": "markdown",
   "id": "f830ed25",
   "metadata": {},
   "source": [
    " ### Implementing Breadth-First Search (BFS) and Depth-First Search (DFS)"
   ]
  },
  {
   "cell_type": "code",
   "execution_count": 1,
   "id": "00ec564e",
   "metadata": {},
   "outputs": [
    {
     "name": "stdout",
     "output_type": "stream",
     "text": [
      "[0, 1, 2, 3, 4, 5]\n",
      "[0, 1, 3, 4, 2, 5]\n"
     ]
    }
   ],
   "source": [
    "class Graph:\n",
    "    def __init__(self, vertices):\n",
    "        self.vertices = vertices\n",
    "        self.adj_list = {i: [] for i in range(vertices)}\n",
    "\n",
    "    def add_edge(self, v1, v2):\n",
    "        self.adj_list[v1].append(v2)\n",
    "        self.adj_list[v2].append(v1)\n",
    "\n",
    "    def bfs(self, start):\n",
    "        visited = [False] * self.vertices\n",
    "        queue = [start]\n",
    "        visited[start] = True\n",
    "        traversal = []\n",
    "        \n",
    "        while queue:\n",
    "            node = queue.pop(0)\n",
    "            traversal.append(node)\n",
    "            for neighbor in self.adj_list[node]:\n",
    "                if not visited[neighbor]:\n",
    "                    visited[neighbor] = True\n",
    "                    queue.append(neighbor)\n",
    "        return traversal\n",
    "\n",
    "    def dfs(self, start):\n",
    "        visited = [False] * self.vertices\n",
    "        traversal = []\n",
    "        \n",
    "        def dfs_util(node):\n",
    "            visited[node] = True\n",
    "            traversal.append(node)\n",
    "            for neighbor in self.adj_list[node]:\n",
    "                if not visited[neighbor]:\n",
    "                    dfs_util(neighbor)\n",
    "\n",
    "        dfs_util(start)\n",
    "        return traversal\n",
    "\n",
    "g = Graph(6)\n",
    "g.add_edge(0, 1)\n",
    "g.add_edge(0, 2)\n",
    "g.add_edge(1, 3)\n",
    "g.add_edge(1, 4)\n",
    "g.add_edge(2, 5)\n",
    "\n",
    "print(g.bfs(0))  \n",
    "print(g.dfs(0))  \n"
   ]
  },
  {
   "cell_type": "markdown",
   "id": "b73d9e35",
   "metadata": {},
   "source": []
  }
 ],
 "metadata": {
  "kernelspec": {
   "display_name": "Python 3",
   "language": "python",
   "name": "python3"
  },
  "language_info": {
   "codemirror_mode": {
    "name": "ipython",
    "version": 3
   },
   "file_extension": ".py",
   "mimetype": "text/x-python",
   "name": "python",
   "nbconvert_exporter": "python",
   "pygments_lexer": "ipython3",
   "version": "3.12.4"
  }
 },
 "nbformat": 4,
 "nbformat_minor": 5
}
