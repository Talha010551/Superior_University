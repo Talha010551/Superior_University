{
 "cells": [
  {
   "cell_type": "markdown",
   "id": "72b2158f-7f0a-49e3-9715-27f4a6a03f0e",
   "metadata": {},
   "source": [
    "###  Task 1"
   ]
  },
  {
   "cell_type": "code",
   "execution_count": 1,
   "id": "be372f58",
   "metadata": {},
   "outputs": [
    {
     "name": "stdout",
     "output_type": "stream",
     "text": [
      "A B D E C "
     ]
    }
   ],
   "source": [
    "class Node:\n",
    "    def __init__(self, value):\n",
    "        self.value = value\n",
    "        self.neighbors = []\n",
    "\n",
    "def dfs(start_node):\n",
    "    stack = [start_node]  \n",
    "    visited = set()  \n",
    "\n",
    "    while stack:\n",
    "        node = stack.pop()  \n",
    "        if node not in visited:\n",
    "            print(node.value, end=\" \")  \n",
    "            visited.add(node)\n",
    "            stack.extend(reversed(node.neighbors)) \n",
    "\n",
    "\n",
    "a = Node('A')\n",
    "b = Node('B')\n",
    "c = Node('C')\n",
    "d = Node('D')\n",
    "e = Node('E')\n",
    "\n",
    "a.neighbors = [b, c]\n",
    "b.neighbors = [d, e]\n",
    "c.neighbors = [e]\n",
    "d.neighbors = []\n",
    "e.neighbors = []\n",
    "\n",
    "\n",
    "dfs(a)\n"
   ]
  },
  {
   "cell_type": "markdown",
   "id": "4b61a953-6198-4d9b-acdc-7a71c0005c45",
   "metadata": {},
   "source": [
    "### Task 2"
   ]
  },
  {
   "cell_type": "code",
   "execution_count": 3,
   "id": "24a2388e-0299-4cc0-acad-2cd818845d4a",
   "metadata": {},
   "outputs": [
    {
     "name": "stdout",
     "output_type": "stream",
     "text": [
      "Inorder Traversal: D B E A F C G \n",
      "Preorder Traversal: A B D E C F G \n",
      "Postorder Traversal: D E B F G C A "
     ]
    }
   ],
   "source": [
    "class Node:\n",
    "    def __init__(self, value):\n",
    "        self.value = value\n",
    "        self.left = None\n",
    "        self.right = None\n",
    "\n",
    "\n",
    "def inorder(node): \n",
    "    if node:\n",
    "        inorder(node.left)\n",
    "        print(node.value, end=\" \")\n",
    "        inorder(node.right)\n",
    "\n",
    "def preorder(node):  \n",
    "    if node:\n",
    "        print(node.value, end=\" \")\n",
    "        preorder(node.left)\n",
    "        preorder(node.right)\n",
    "\n",
    "def postorder(node):  \n",
    "    if node:\n",
    "        postorder(node.left)\n",
    "        postorder(node.right)\n",
    "        print(node.value, end=\" \")\n",
    "\n",
    "\n",
    "root = Node('A')\n",
    "root.left = Node('B')\n",
    "root.right = Node('C')\n",
    "root.left.left = Node('D')\n",
    "root.left.right = Node('E')\n",
    "root.right.left = Node('F')\n",
    "root.right.right = Node('G')\n",
    "\n",
    "\n",
    "print(\"Inorder Traversal: \", end=\"\") \n",
    "inorder(root)\n",
    "print(\"\\nPreorder Traversal: \", end=\"\")\n",
    "preorder(root)\n",
    "print(\"\\nPostorder Traversal: \", end=\"\")\n",
    "postorder(root)\n"
   ]
  },
  {
   "cell_type": "code",
   "execution_count": null,
   "id": "bf1059d2-a352-42f7-a356-5626145856de",
   "metadata": {},
   "outputs": [],
   "source": []
  }
 ],
 "metadata": {
  "kernelspec": {
   "display_name": "Python 3 (ipykernel)",
   "language": "python",
   "name": "python3"
  },
  "language_info": {
   "codemirror_mode": {
    "name": "ipython",
    "version": 3
   },
   "file_extension": ".py",
   "mimetype": "text/x-python",
   "name": "python",
   "nbconvert_exporter": "python",
   "pygments_lexer": "ipython3",
   "version": "3.11.7"
  }
 },
 "nbformat": 4,
 "nbformat_minor": 5
}
