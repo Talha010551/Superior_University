{
 "cells": [
  {
   "cell_type": "markdown",
   "id": "5b85c065-601e-4d05-8f00-ee7cc32b17ed",
   "metadata": {},
   "source": [
    "### Task 1"
   ]
  },
  {
   "cell_type": "code",
   "execution_count": null,
   "id": "c1032e2e-3949-4d26-aa2f-7089eff7d918",
   "metadata": {},
   "outputs": [],
   "source": [
    "def bfs(graph, start, visited=None, level=0):\n",
    "    if visited is None:\n",
    "        visited = set()\n",
    "    \n",
    "    if start not in visited:\n",
    "        print(f\"Level {level}: {start}\") \n",
    "        visited.add(start)\n",
    "        \n",
    "        \n",
    "        for neighbor in graph.get(start, []):\n",
    "            bfs(graph, neighbor, visited, level + 1)\n",
    "\n",
    "\n",
    "graph = {\n",
    "    0: [1, 2],\n",
    "    1: [3, 4],\n",
    "    2: [5, 6],\n",
    "    3: [],\n",
    "    4: [],\n",
    "    5: [],\n",
    "    6: []\n",
    "}\n",
    "\n",
    "\n",
    "bfs(graph, 0)"
   ]
  },
  {
   "cell_type": "markdown",
   "id": "606cbcee-e1d7-4221-9ce1-0e0146a12de7",
   "metadata": {},
   "source": [
    "### Task 2"
   ]
  },
  {
   "cell_type": "code",
   "execution_count": 3,
   "id": "d9e388ea-eca4-4cd3-8197-134801f016cc",
   "metadata": {},
   "outputs": [
    {
     "name": "stdout",
     "output_type": "stream",
     "text": [
      "1 2 3 4 5 6 7 8 9 "
     ]
    }
   ],
   "source": [
    "from collections import deque\n",
    "\n",
    "class Node:\n",
    "    def __init__(self, value):\n",
    "        self.value = value\n",
    "        self.children = []\n",
    "\n",
    "def bfs(root):\n",
    "    if not root:\n",
    "        return\n",
    "    \n",
    "    queue = deque([root]) \n",
    "    \n",
    "    while queue:\n",
    "        current = queue.popleft()  \n",
    "        print(current.value, end=\" \")  \n",
    "        \n",
    "\n",
    "        for child in current.children:\n",
    "            queue.append(child)\n",
    "\n",
    "\n",
    "root = Node(1)\n",
    "root.children = [Node(2), Node(3), Node(4)]\n",
    "root.children[0].children = [Node(5), Node(6)]\n",
    "root.children[1].children = [Node(7)]\n",
    "root.children[2].children = [Node(8), Node(9)]\n",
    "\n",
    "\n",
    "bfs(root)"
   ]
  },
  {
   "cell_type": "code",
   "execution_count": null,
   "id": "bf5309d5-2de5-4312-8724-cf3cd309f485",
   "metadata": {},
   "outputs": [],
   "source": []
  }
 ],
 "metadata": {
  "kernelspec": {
   "display_name": "Python 3 (ipykernel)",
   "language": "python",
   "name": "python3"
  },
  "language_info": {
   "codemirror_mode": {
    "name": "ipython",
    "version": 3
   },
   "file_extension": ".py",
   "mimetype": "text/x-python",
   "name": "python",
   "nbconvert_exporter": "python",
   "pygments_lexer": "ipython3",
   "version": "3.11.7"
  }
 },
 "nbformat": 4,
 "nbformat_minor": 5
}
