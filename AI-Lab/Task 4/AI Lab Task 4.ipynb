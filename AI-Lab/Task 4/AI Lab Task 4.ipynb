{
 "cells": [
  {
   "cell_type": "markdown",
   "id": "d32799ea-89a5-4138-aea0-3ccc4bbad4ed",
   "metadata": {},
   "source": [
    "# Task 1"
   ]
  },
  {
   "cell_type": "code",
   "execution_count": 1,
   "id": "6cdacef9-0154-4179-a1da-84e54de322fd",
   "metadata": {},
   "outputs": [
    {
     "name": "stdout",
     "output_type": "stream",
     "text": [
      "True\n"
     ]
    }
   ],
   "source": [
    "def luhn_check(card_number: str) -> bool:\n",
    "    \"\"\"\n",
    "    Validate a credit card number using the Luhn algorithm.\n",
    "    \"\"\"\n",
    "    card_number = card_number.replace(\" \", \"\")  \n",
    "    if not card_number.isdigit():\n",
    "        return False\n",
    "    \n",
    "    total = 0\n",
    "    reverse_digits = card_number[::-1]\n",
    "    \n",
    "    for i, digit in enumerate(reverse_digits):\n",
    "        num = int(digit)\n",
    "        if i % 2 == 1: \n",
    "            num *= 2\n",
    "            if num > 9:\n",
    "                num -= 9  \n",
    "        total += num\n",
    "    \n",
    "    return total % 10 == 0 \n",
    "\n",
    "\n",
    "card_number = \"4532015112830366\"  \n",
    "print(luhn_check(card_number))  "
   ]
  },
  {
   "cell_type": "markdown",
   "id": "a6bfd782-8a20-42cb-aa98-c5a646d6a027",
   "metadata": {},
   "source": [
    "# Task 2"
   ]
  },
  {
   "cell_type": "code",
   "execution_count": 2,
   "id": "1dba0040-fc29-4de0-acd7-2f3a42726687",
   "metadata": {},
   "outputs": [
    {
     "name": "stdout",
     "output_type": "stream",
     "text": [
      "Hello World Hows it going\n"
     ]
    }
   ],
   "source": [
    "import string\n",
    "\n",
    "def remove_punctuation(user_input: str) -> str:\n",
    "    \"\"\"\n",
    "    Remove punctuation from the given string without using remove().\n",
    "    \"\"\"\n",
    "    result = \"\"\n",
    "    for char in user_input:\n",
    "        if char not in string.punctuation:  \n",
    "            result += char\n",
    "    return result\n",
    "\n",
    "\n",
    "user_input = \"Hello, World! How's it going?\"\n",
    "print(remove_punctuation(user_input))  "
   ]
  },
  {
   "cell_type": "markdown",
   "id": "3549a232-b61b-4697-89fa-acbb75b9b515",
   "metadata": {},
   "source": [
    "# Task 3"
   ]
  },
  {
   "cell_type": "code",
   "execution_count": 3,
   "id": "8bd1a11b-1d51-4778-9a4d-24992077f23f",
   "metadata": {},
   "outputs": [
    {
     "name": "stdout",
     "output_type": "stream",
     "text": [
      "['apple', 'banana', 'cherry', 'date']\n"
     ]
    }
   ],
   "source": [
    "def ascii_sort(words: list) -> list:\n",
    "    \"\"\"\n",
    "    Sort a list of words alphabetically using ASCII values without using sort().\n",
    "    \"\"\"\n",
    "    for i in range(len(words)):\n",
    "        for j in range(i + 1, len(words)):\n",
    "            if words[i] > words[j]:  \n",
    "                words[i], words[j] = words[j], words[i]  \n",
    "    return words\n",
    "\n",
    "word_list = [\"banana\", \"apple\", \"cherry\", \"date\"]\n",
    "sorted_words = ascii_sort(word_list)\n",
    "print(sorted_words) \n"
   ]
  },
  {
   "cell_type": "code",
   "execution_count": null,
   "id": "79e2484e-2be4-4964-a46c-30e632c45954",
   "metadata": {},
   "outputs": [],
   "source": []
  }
 ],
 "metadata": {
  "kernelspec": {
   "display_name": "Python 3 (ipykernel)",
   "language": "python",
   "name": "python3"
  },
  "language_info": {
   "codemirror_mode": {
    "name": "ipython",
    "version": 3
   },
   "file_extension": ".py",
   "mimetype": "text/x-python",
   "name": "python",
   "nbconvert_exporter": "python",
   "pygments_lexer": "ipython3",
   "version": "3.11.7"
  }
 },
 "nbformat": 4,
 "nbformat_minor": 5
}
