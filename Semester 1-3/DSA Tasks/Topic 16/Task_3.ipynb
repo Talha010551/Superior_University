{
 "cells": [
  {
   "cell_type": "markdown",
   "id": "7211e8af",
   "metadata": {},
   "source": [
    "### Detecting Cycles in a Graph (Directed & Undirected)"
   ]
  },
  {
   "cell_type": "code",
   "execution_count": 1,
   "id": "2ed4bcda",
   "metadata": {},
   "outputs": [
    {
     "name": "stdout",
     "output_type": "stream",
     "text": [
      "True\n",
      "True\n"
     ]
    }
   ],
   "source": [
    "def detect_cycle_undirected(graph):\n",
    "    parent = {}\n",
    "\n",
    "    def find(x):\n",
    "        if parent[x] != x:\n",
    "            parent[x] = find(parent[x])\n",
    "        return parent[x]\n",
    "\n",
    "    def union(x, y):\n",
    "        root_x = find(x)\n",
    "        root_y = find(y)\n",
    "        if root_x == root_y:\n",
    "            return True\n",
    "        parent[root_y] = root_x\n",
    "        return False\n",
    "\n",
    "    for node in graph:\n",
    "        parent[node] = node\n",
    "\n",
    "    for u in graph:\n",
    "        for v in graph[u]:\n",
    "            if u < v:\n",
    "                if union(u, v):\n",
    "                    return True\n",
    "    return False\n",
    "\n",
    "def detect_cycle_directed(graph):\n",
    "    visited = set()\n",
    "    rec_stack = set()\n",
    "\n",
    "    def dfs(node):\n",
    "        visited.add(node)\n",
    "        rec_stack.add(node)\n",
    "        for neighbor in graph.get(node, []):\n",
    "            if neighbor not in visited:\n",
    "                if dfs(neighbor):\n",
    "                    return True\n",
    "            elif neighbor in rec_stack:\n",
    "                return True\n",
    "        rec_stack.remove(node)\n",
    "        return False\n",
    "\n",
    "    for node in graph:\n",
    "        if node not in visited:\n",
    "            if dfs(node):\n",
    "                return True\n",
    "    return False\n",
    "\n",
    "graph_undirected = {\n",
    "    'A': ['B', 'C'],\n",
    "    'B': ['A', 'D'],\n",
    "    'C': ['A', 'D'],\n",
    "    'D': ['B', 'C']\n",
    "}\n",
    "print(detect_cycle_undirected(graph_undirected))\n",
    "\n",
    "graph_directed = {\n",
    "    'A': ['B'],\n",
    "    'B': ['C'],\n",
    "    'C': ['A']\n",
    "}\n",
    "print(detect_cycle_directed(graph_directed))\n"
   ]
  },
  {
   "cell_type": "code",
   "execution_count": null,
   "id": "bf58f8b0",
   "metadata": {},
   "outputs": [],
   "source": []
  }
 ],
 "metadata": {
  "kernelspec": {
   "display_name": "Python 3",
   "language": "python",
   "name": "python3"
  },
  "language_info": {
   "codemirror_mode": {
    "name": "ipython",
    "version": 3
   },
   "file_extension": ".py",
   "mimetype": "text/x-python",
   "name": "python",
   "nbconvert_exporter": "python",
   "pygments_lexer": "ipython3",
   "version": "3.12.4"
  }
 },
 "nbformat": 4,
 "nbformat_minor": 5
}
