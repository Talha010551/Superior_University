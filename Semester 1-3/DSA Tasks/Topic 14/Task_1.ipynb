{
 "cells": [
  {
   "cell_type": "markdown",
   "id": "a2ab5ef8",
   "metadata": {},
   "source": [
    "## Dynamic Programming (DP)\n",
    "### Implementing the Fibonacci Sequence Using DP (Memoization &  Tabulation)"
   ]
  },
  {
   "cell_type": "code",
   "execution_count": 1,
   "id": "dda6540b",
   "metadata": {},
   "outputs": [
    {
     "name": "stdout",
     "output_type": "stream",
     "text": [
      "55\n",
      "55\n"
     ]
    }
   ],
   "source": [
    "def fib_memoization(n, memo={}):\n",
    "    if n <= 1:\n",
    "        return n\n",
    "    if n not in memo:\n",
    "        memo[n] = fib_memoization(n - 1, memo) + fib_memoization(n - 2, memo)\n",
    "    return memo[n]\n",
    "\n",
    "def fib_tabulation(n):\n",
    "    if n <= 1:\n",
    "        return n\n",
    "    dp = [0] * (n + 1)\n",
    "    dp[1] = 1\n",
    "    for i in range(2, n + 1):\n",
    "        dp[i] = dp[i - 1] + dp[i - 2]\n",
    "    return dp[n]\n",
    "\n",
    "print(fib_memoization(10))  \n",
    "print(fib_tabulation(10))   \n"
   ]
  },
  {
   "cell_type": "markdown",
   "id": "2bb5fe25",
   "metadata": {},
   "source": []
  }
 ],
 "metadata": {
  "kernelspec": {
   "display_name": "Python 3",
   "language": "python",
   "name": "python3"
  },
  "language_info": {
   "codemirror_mode": {
    "name": "ipython",
    "version": 3
   },
   "file_extension": ".py",
   "mimetype": "text/x-python",
   "name": "python",
   "nbconvert_exporter": "python",
   "pygments_lexer": "ipython3",
   "version": "3.12.4"
  }
 },
 "nbformat": 4,
 "nbformat_minor": 5
}
