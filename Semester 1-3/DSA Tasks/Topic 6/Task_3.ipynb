{
 "cells": [
  {
   "cell_type": "markdown",
   "id": "db8d37cb",
   "metadata": {},
   "source": [
    "### Checking if a Binary Tree is Balanced"
   ]
  },
  {
   "cell_type": "code",
   "execution_count": 1,
   "id": "9c2b5b89",
   "metadata": {},
   "outputs": [
    {
     "name": "stdout",
     "output_type": "stream",
     "text": [
      "True\n",
      "False\n"
     ]
    }
   ],
   "source": [
    "class Node:\n",
    "    def __init__(self, value):\n",
    "        self.value = value\n",
    "        self.left = None\n",
    "        self.right = None\n",
    "\n",
    "def is_balanced(root):\n",
    "    def check(node):\n",
    "        if not node:\n",
    "            return 0, True\n",
    "        lh, lb = check(node.left)\n",
    "        rh, rb = check(node.right)\n",
    "        height = 1 + max(lh, rh)\n",
    "        balanced = lb and rb and abs(lh - rh) <= 1\n",
    "        return height, balanced\n",
    "    return check(root)[1]\n",
    "\n",
    "root1 = Node(10)\n",
    "root1.left = Node(5)\n",
    "root1.right = Node(15)\n",
    "root1.left.left = Node(2)\n",
    "root1.left.right = Node(7)\n",
    "root1.right.left = Node(12)\n",
    "root1.right.right = Node(20)\n",
    "\n",
    "root2 = Node(10)\n",
    "root2.left = Node(5)\n",
    "root2.left.left = Node(2)\n",
    "\n",
    "print(is_balanced(root1))  \n",
    "print(is_balanced(root2))  \n"
   ]
  },
  {
   "cell_type": "markdown",
   "id": "70482267",
   "metadata": {},
   "source": []
  }
 ],
 "metadata": {
  "kernelspec": {
   "display_name": "Python 3",
   "language": "python",
   "name": "python3"
  },
  "language_info": {
   "codemirror_mode": {
    "name": "ipython",
    "version": 3
   },
   "file_extension": ".py",
   "mimetype": "text/x-python",
   "name": "python",
   "nbconvert_exporter": "python",
   "pygments_lexer": "ipython3",
   "version": "3.12.4"
  }
 },
 "nbformat": 4,
 "nbformat_minor": 5
}
