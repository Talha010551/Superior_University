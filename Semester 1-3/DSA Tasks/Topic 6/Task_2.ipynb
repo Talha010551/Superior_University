{
 "cells": [
  {
   "cell_type": "markdown",
   "id": "95d73685",
   "metadata": {},
   "source": [
    "###  Finding the Lowest Common Ancestor (LCA) in a BST"
   ]
  },
  {
   "cell_type": "code",
   "execution_count": 1,
   "id": "6c91a322",
   "metadata": {},
   "outputs": [
    {
     "name": "stdout",
     "output_type": "stream",
     "text": [
      "10\n",
      "20\n",
      "30\n"
     ]
    }
   ],
   "source": [
    "class Node:\n",
    "    def __init__(self, value):\n",
    "        self.value = value\n",
    "        self.left = None\n",
    "        self.right = None\n",
    "\n",
    "class BST:\n",
    "    def __init__(self):\n",
    "        self.root = None\n",
    "\n",
    "    def insert(self, value):\n",
    "        self.root = self._insert(self.root, value)\n",
    "\n",
    "    def _insert(self, node, value):\n",
    "        if not node:\n",
    "            return Node(value)\n",
    "        if value < node.value:\n",
    "            node.left = self._insert(node.left, value)\n",
    "        elif value > node.value:\n",
    "            node.right = self._insert(node.right, value)\n",
    "        return node\n",
    "\n",
    "    def find_lca(self, node, n1, n2):\n",
    "        if not node:\n",
    "            return None\n",
    "        if n1 < node.value and n2 < node.value:\n",
    "            return self.find_lca(node.left, n1, n2)\n",
    "        elif n1 > node.value and n2 > node.value:\n",
    "            return self.find_lca(node.right, n1, n2)\n",
    "        else:\n",
    "            return node\n",
    "\n",
    "bst = BST()\n",
    "for val in [20, 10, 30, 5, 15, 25, 35]:\n",
    "    bst.insert(val)\n",
    "\n",
    "print(bst.find_lca(bst.root, 5, 15).value)   \n",
    "print(bst.find_lca(bst.root, 5, 25).value)   \n",
    "print(bst.find_lca(bst.root, 25, 35).value)  \n"
   ]
  },
  {
   "cell_type": "markdown",
   "id": "929a7644",
   "metadata": {},
   "source": []
  }
 ],
 "metadata": {
  "kernelspec": {
   "display_name": "Python 3",
   "language": "python",
   "name": "python3"
  },
  "language_info": {
   "codemirror_mode": {
    "name": "ipython",
    "version": 3
   },
   "file_extension": ".py",
   "mimetype": "text/x-python",
   "name": "python",
   "nbconvert_exporter": "python",
   "pygments_lexer": "ipython3",
   "version": "3.12.4"
  }
 },
 "nbformat": 4,
 "nbformat_minor": 5
}
