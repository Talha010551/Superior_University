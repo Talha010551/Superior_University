{
 "cells": [
  {
   "cell_type": "markdown",
   "id": "6f2f9c0a",
   "metadata": {},
   "source": [
    "\n",
    "# Task 1: Analyzing Time Complexity of Algorithms"
   ]
  },
  {
   "cell_type": "markdown",
   "id": "0d34bd18",
   "metadata": {},
   "source": [
    "### Step 1: Import Required Modules:"
   ]
  },
  {
   "cell_type": "code",
   "execution_count": 28,
   "id": "baec2f4a-e303-451a-af21-964b737f98ba",
   "metadata": {},
   "outputs": [],
   "source": [
    "import random\n",
    "import time \n",
    "import matplotlib.pyplot as plt"
   ]
  },
  {
   "cell_type": "markdown",
   "id": "146aa879",
   "metadata": {},
   "source": [
    "### Step 2: Implement Sorting Algorithms:\n",
    "##### Bubble Sort (O(n²))\n"
   ]
  },
  {
   "cell_type": "code",
   "execution_count": 29,
   "id": "fe815f65",
   "metadata": {},
   "outputs": [],
   "source": [
    "def bubble_sort(arr):\n",
    "    n = len(arr)\n",
    "    for i in range(n):\n",
    "        for j in range(0, n-i-1):\n",
    "            if arr[j] > arr[j+1]:\n",
    "                arr[j], arr[j+1] = arr[j+1], arr[j]"
   ]
  },
  {
   "cell_type": "markdown",
   "id": "7dc778aa",
   "metadata": {},
   "source": [
    "##### Merge Sort (O(n log n))\n",
    "\n"
   ]
  },
  {
   "cell_type": "code",
   "execution_count": 30,
   "id": "6498006a",
   "metadata": {},
   "outputs": [],
   "source": [
    "def merge_sort(arr):\n",
    "    if len(arr) > 1:\n",
    "        mid = len(arr) // 2\n",
    "        L = arr[:mid]\n",
    "        R = arr[mid:]\n",
    "\n",
    "        merge_sort(L)\n",
    "        merge_sort(R)\n",
    "\n",
    "        i = j = k = 0\n",
    "\n",
    "        while i < len(L) and j < len(R):\n",
    "            if L[i] < R[j]:\n",
    "                arr[k] = L[i]\n",
    "                i += 1\n",
    "            else:\n",
    "                arr[k] = R[j]\n",
    "                j += 1\n",
    "            k += 1\n",
    "\n",
    "        while i < len(L):\n",
    "            arr[k] = L[i]\n",
    "            i += 1\n",
    "            k += 1\n",
    "\n",
    "        while j < len(R):\n",
    "            arr[k] = R[j]\n",
    "            j += 1\n",
    "            k += 1"
   ]
  },
  {
   "cell_type": "markdown",
   "id": "5fbfcb58",
   "metadata": {},
   "source": [
    "##### Quick Sort (O(n log n))\n",
    "\n"
   ]
  },
  {
   "cell_type": "code",
   "execution_count": 31,
   "id": "ed602f68",
   "metadata": {},
   "outputs": [],
   "source": [
    "def quick_sort(arr):\n",
    "    if len(arr) <= 1:\n",
    "        return arr\n",
    "    pivot = arr[len(arr) // 2]\n",
    "    left = [x for x in arr if x < pivot]\n",
    "    middle = [x for x in arr if x == pivot]\n",
    "    right = [x for x in arr if x > pivot]\n",
    "    return quick_sort(left) + middle + quick_sort(right)"
   ]
  },
  {
   "cell_type": "markdown",
   "id": "f99c9f75",
   "metadata": {},
   "source": [
    "### Step 3: Generate Random List\n",
    "\n"
   ]
  },
  {
   "cell_type": "code",
   "execution_count": 32,
   "id": "32d38a46",
   "metadata": {},
   "outputs": [],
   "source": [
    "data = [random.randint(0, 10000) for _ in range(1000)]"
   ]
  },
  {
   "cell_type": "markdown",
   "id": "4e8c65e1",
   "metadata": {},
   "source": [
    "### Step 4: Measure Execution Time\n",
    "\n"
   ]
  },
  {
   "cell_type": "code",
   "execution_count": 33,
   "id": "c46e439e",
   "metadata": {},
   "outputs": [],
   "source": [
    "data_1 = data.copy()\n",
    "data_2 = data.copy()\n",
    "data_3 = data.copy()\n",
    "\n",
    "start_time = time.time()\n",
    "bubble_sort(data_1)\n",
    "bubble_time = time.time() - start_time\n",
    "\n",
    "start_time = time.time()\n",
    "merge_sort(data_2)\n",
    "merge_time = time.time() - start_time\n",
    "\n",
    "start_time = time.time()\n",
    "quick_sort(data_3)\n",
    "quick_time = time.time() - start_time\n"
   ]
  },
  {
   "cell_type": "markdown",
   "id": "606ce0bb",
   "metadata": {},
   "source": [
    "### Step 5: Create Comparison Table and Graph\n",
    "\n"
   ]
  },
  {
   "cell_type": "code",
   "execution_count": 34,
   "id": "bccb0746",
   "metadata": {},
   "outputs": [
    {
     "name": "stdout",
     "output_type": "stream",
     "text": [
      "Algorithm   Time (seconds)\n",
      "-------------------------\n",
      "Bubble Sort 0.096319\n",
      "Merge Sort  0.000000\n",
      "Quick Sort  0.000000\n"
     ]
    },
    {
     "data": {
      "image/png": "[encoded data removed]",
      "text/plain": [
       "<Figure size 640x480 with 1 Axes>"
      ]
     },
     "metadata": {},
     "output_type": "display_data"
    }
   ],
   "source": [
    "print(f\"{'Algorithm':<12}{'Time (seconds)'}\")\n",
    "print(f\"{'-'*25}\")\n",
    "print(f\"{'Bubble Sort':<12}{bubble_time:.6f}\")\n",
    "print(f\"{'Merge Sort':<12}{merge_time:.6f}\")\n",
    "print(f\"{'Quick Sort':<12}{quick_time:.6f}\")\n",
    "\n",
    "algorithms = ['Bubble Sort', 'Merge Sort', 'Quick Sort']\n",
    "times = [bubble_time, merge_time, quick_time]\n",
    "\n",
    "plt.bar(algorithms, times, color=['blue', 'green', 'red'])\n",
    "plt.title('Sorting Algorithm Time Complexity')\n",
    "plt.ylabel('Time (seconds)')\n",
    "plt.show()"
   ]
  },
  {
   "cell_type": "markdown",
   "id": "4d4b896b",
   "metadata": {},
   "source": [
    "### Step 6: Report (Easy Explanation)\n",
    "#### Report Summary:\n",
    "\n",
    "##### Bubble Sort is the slowest with time complexity O(n²) because it compares each element with all others.\n",
    "\n",
    "##### Merge Sort and Quick Sort are much faster, both having O(n log n) complexity.\n",
    "\n",
    "##### Merge Sort is stable and always O(n log n).\n",
    "\n",
    "##### Quick Sort is faster in practice but worst-case is O(n²) (rare with random data).\n"
   ]
  },
  {
   "cell_type": "markdown",
   "id": "e0bba035-fb57-4df5-8b32-a4f5b27dadf2",
   "metadata": {},
   "source": [
    "# Next Part "
   ]
  },
  {
   "cell_type": "markdown",
   "id": "c1b0db2f-b87d-4c60-9ba2-cc6208563548",
   "metadata": {},
   "source": [
    "### Task 2: Recursive vs Iterative Approach"
   ]
  },
  {
   "cell_type": "markdown",
   "id": "aaaf3387-6c4d-4be2-bc77-56b08238f7f4",
   "metadata": {},
   "source": [
    "#### First, Understand the Fibonacci Number :\n",
    "##### The Fibonacci sequence is:\n",
    "##### Each number is the sum of the previous two numbers"
   ]
  },
  {
   "cell_type": "code",
   "execution_count": 4,
   "id": "98075981-345f-48d3-9135-787d1c6cddb2",
   "metadata": {},
   "outputs": [
    {
     "data": {
      "text/plain": [
       "(0, 1, 1, 2, 3, 5, 8, 13, 21, 34, 55, Ellipsis)"
      ]
     },
     "execution_count": 4,
     "metadata": {},
     "output_type": "execute_result"
    }
   ],
   "source": [
    "0,1,1,2,3,5,8,13,21,34,55,..."
   ]
  },
  {
   "cell_type": "markdown",
   "id": "09fb473c-901f-4a00-baec-9ae84bc12133",
   "metadata": {},
   "source": [
    "### 1. Recursive Approach\n"
   ]
  },
  {
   "cell_type": "code",
   "execution_count": 5,
   "id": "a77efcc8-5724-400d-a286-735a70338c10",
   "metadata": {},
   "outputs": [],
   "source": [
    "def fibonacci_recursive(n):\n",
    "    if n <= 0:\n",
    "        return 0\n",
    "    elif n == 1:\n",
    "        return 1\n",
    "    else:\n",
    "        return fibonacci_recursive(n - 1) + fibonacci_recursive(n - 2)\n",
    "   "
   ]
  },
  {
   "cell_type": "markdown",
   "id": "09fe3ed8-65f9-4b7c-9a00-45194def6c2d",
   "metadata": {},
   "source": [
    "###  2. Iterative Approach\n"
   ]
  },
  {
   "cell_type": "code",
   "execution_count": 6,
   "id": "a673c677-09cc-42b0-ace7-5a2ddbb5caa3",
   "metadata": {},
   "outputs": [],
   "source": [
    "def fibonacci_iterative(n):\n",
    "    if n <= 0:\n",
    "        return 0\n",
    "    elif n == 1:\n",
    "        return 1\n",
    "    else:\n",
    "        a, b = 0, 1\n",
    "        for _ in range(2, n + 1):\n",
    "            a, b = b, a + b\n",
    "        return b"
   ]
  },
  {
   "cell_type": "markdown",
   "id": "b892764b-8e8c-45d7-b3b4-02b0a36653ca",
   "metadata": {},
   "source": [
    "### 3. Optimized Recursive Approach (Memoization)"
   ]
  },
  {
   "cell_type": "code",
   "execution_count": 7,
   "id": "978673cf-13fd-4404-96c7-bc9f393d59bb",
   "metadata": {},
   "outputs": [],
   "source": [
    "def fibonacci_memoization(n, memo={}):\n",
    "    if n in memo:\n",
    "        return memo[n]\n",
    "    if n <= 0:\n",
    "        return 0\n",
    "    elif n == 1:\n",
    "        return 1\n",
    "    else:\n",
    "        memo[n] = fibonacci_memoization(n - 1, memo) + fibonacci_memoization(n - 2, memo)\n",
    "        return memo[n]"
   ]
  },
  {
   "cell_type": "markdown",
   "id": "8deac1dd-affa-4aac-a9d6-e45a0d37caf5",
   "metadata": {},
   "source": [
    "### 4. Measure and Compare Execution Time"
   ]
  },
  {
   "cell_type": "code",
   "execution_count": 8,
   "id": "d196d518-9fd8-465c-9c69-e43698fcfa5d",
   "metadata": {},
   "outputs": [
    {
     "name": "stdout",
     "output_type": "stream",
     "text": [
      "Recursive Fibonacci 10 took 0.000000 seconds\n",
      "Iterative Fibonacci 10 took 0.000000 seconds\n",
      "Memoization Fibonacci 10 took 0.000000 seconds\n",
      "Recursive Fibonacci 20 took 0.007996 seconds\n",
      "Iterative Fibonacci 20 took 0.000000 seconds\n",
      "Memoization Fibonacci 20 took 0.000000 seconds\n",
      "Recursive Fibonacci 30 took 0.413045 seconds\n",
      "Iterative Fibonacci 30 took 0.000000 seconds\n",
      "Memoization Fibonacci 30 took 0.000000 seconds\n",
      "Recursive Fibonacci 40 took 44.835021 seconds\n",
      "Iterative Fibonacci 40 took 0.000000 seconds\n",
      "Memoization Fibonacci 40 took 0.000000 seconds\n"
     ]
    }
   ],
   "source": [
    "import time\n",
    "\n",
    "n_value = [10, 20, 30, 40]\n",
    "\n",
    "for n in n_value:\n",
    "    start = time.time()\n",
    "    fibonacci_recursive(n)\n",
    "    end = time.time()\n",
    "    print(f\"Recursive Fibonacci {n} took {end - start:.6f} seconds\")\n",
    "\n",
    "    start = time.time()\n",
    "    fibonacci_iterative(n)\n",
    "    end = time.time()\n",
    "    print(f\"Iterative Fibonacci {n} took {end - start:.6f} seconds\")\n",
    "\n",
    "    start = time.time()\n",
    "    fibonacci_memoization(n)\n",
    "    end = time.time()\n",
    "    print(f\"Memoization Fibonacci {n} took {end - start:.6f} seconds\")\n"
   ]
  },
  {
   "cell_type": "markdown",
   "id": "7efd3d66-4f22-4d22-9fb0-68e4db993518",
   "metadata": {},
   "source": [
    "### Difference Between Recursive and Iterative"
   ]
  },
  {
   "cell_type": "markdown",
   "id": "854471f0-2905-4770-927b-6fcd2d95b3fa",
   "metadata": {},
   "source": [
    "#### 1. Performance (Speed):\n",
    "##### Recursive is slow because it repeats calculations many times.\n",
    "\n",
    "##### Iterative is fast because it calculates step-by-step without repeating.\n",
    "\n",
    "##### Memoized Recursive is very fast because it remembers already calculated results.\n",
    "\n",
    "#### 2. Space Complexity (Memory Usage):\n",
    "##### Recursive uses more memory because every function call is saved in the call stack.\n",
    "\n",
    "##### Iterative uses less memory because it only needs a few variables.\n",
    "\n",
    "##### Memoized Recursive uses medium memory because it stores previous answers in a dictionary.\n",
    "\n",
    "#### 3. When Recursion Should Be Avoided:\n",
    "##### When n is large (e.g., Fibonacci(50), Fibonacci(100)).\n",
    "\n",
    "##### When speed is important and you want a faster solution.\n",
    "\n",
    "##### When memory is limited (recursion uses more memory).\n",
    "\n",
    "##### When you get a RecursionError (too many function calls).\n",
    "\n"
   ]
  },
  {
   "cell_type": "markdown",
   "id": "e33c6410-94f8-4421-9778-b8fcb5e356a8",
   "metadata": {},
   "source": [
    "# Next Part "
   ]
  },
  {
   "cell_type": "markdown",
   "id": "ec242f75-a2be-4426-8742-c8ef575c5b21",
   "metadata": {
    "jp-MarkdownHeadingCollapsed": true
   },
   "source": [
    "### Task 3: Visualizing Big-O Notation\n"
   ]
  },
  {
   "cell_type": "markdown",
   "id": "042e827a-cd87-42a4-9de3-921bd164f3c8",
   "metadata": {},
   "source": [
    "### Step 1: Import required libraries\n"
   ]
  },
  {
   "cell_type": "code",
   "execution_count": 9,
   "id": "db24c453-c2ad-4a3c-8a75-111fedd91fc6",
   "metadata": {},
   "outputs": [],
   "source": [
    "import matplotlib.pyplot as plt\n",
    "import numpy as np"
   ]
  },
  {
   "cell_type": "markdown",
   "id": "f2aed616-f070-45d7-a2fb-f836795b83fe",
   "metadata": {},
   "source": [
    "#### Step 2: Write functions for different time complexities"
   ]
  },
  {
   "cell_type": "code",
   "execution_count": 10,
   "id": "82efd50f-3d26-4451-853b-93eb803edac8",
   "metadata": {},
   "outputs": [],
   "source": [
    "def constant(n):\n",
    "    return np.ones_like(n)\n",
    "\n",
    "def logarithmic(n):\n",
    "    return np.log2(n)\n",
    "\n",
    "def linear(n):\n",
    "    return n\n",
    "\n",
    "def linearithmic(n):\n",
    "    return n * np.log2(n)\n",
    "\n",
    "def quadratic(n):\n",
    "    return n**2\n",
    "\n",
    "def exponential(n):\n",
    "    return 2**n\n"
   ]
  },
  {
   "cell_type": "markdown",
   "id": "55b80695-09ee-42cb-b69c-02a8b179f63f",
   "metadata": {},
   "source": [
    "###  Step 3: Create input sizes (from 1 to 1000):\n"
   ]
  },
  {
   "cell_type": "code",
   "execution_count": 11,
   "id": "06eb3ae5-b99b-4c9e-adf6-d6ccbda64348",
   "metadata": {},
   "outputs": [],
   "source": [
    "n = np.arange(1, 1001)"
   ]
  },
  {
   "cell_type": "markdown",
   "id": "b026909c-e457-4db0-b4f4-19778bd5a4b0",
   "metadata": {},
   "source": [
    " ### Step 4: Calculate outputs using the functions"
   ]
  },
  {
   "cell_type": "code",
   "execution_count": 12,
   "id": "e0ef8e75-436d-4b8b-9595-072d6608e1bc",
   "metadata": {},
   "outputs": [],
   "source": [
    "y_constant = constant(n)\n",
    "y_log = logarithmic(n)\n",
    "y_linear = linear(n)\n",
    "y_linearithmic = linearithmic(n)\n",
    "y_quadratic = quadratic(n)\n",
    "y_exponential = exponential(n[:20])"
   ]
  },
  {
   "cell_type": "markdown",
   "id": "7ea26a4b-5ef0-40ed-9b66-4ff658630ded",
   "metadata": {},
   "source": [
    "### Step 5: Draw the graphs"
   ]
  },
  {
   "cell_type": "code",
   "execution_count": 13,
   "id": "52f22701-7ee0-4e44-8123-02c6dd36b96c",
   "metadata": {},
   "outputs": [
    {
     "data": {
      "image/png": "[encoded data removed]",
      "text/plain": [
       "<Figure size 1200x800 with 1 Axes>"
      ]
     },
     "metadata": {},
     "output_type": "display_data"
    }
   ],
   "source": [
    "plt.figure(figsize=(12, 8))\n",
    "plt.plot(n, y_constant, label='O(1)', color='blue')\n",
    "plt.plot(n, y_log, label='O(log n)', color='orange')\n",
    "plt.plot(n, y_linear, label='O(n)', color='green')\n",
    "plt.plot(n, y_linearithmic, label='O(n log n)', color='red')\n",
    "plt.plot(n, y_quadratic, label='O(n^2)', color='purple')\n",
    "plt.plot(n[:20], y_exponential, label='O(2^n)', color='brown')\n",
    "\n",
    "plt.title('Growth of Different Time Complexities')\n",
    "plt.xlabel('Input Size (n)')\n",
    "plt.ylabel('Operations')\n",
    "plt.legend()\n",
    "plt.grid(True)\n",
    "plt.show()"
   ]
  },
  {
   "cell_type": "markdown",
   "id": "ac49240e-14f3-4669-9143-d7f6aaf07148",
   "metadata": {},
   "source": [
    "### Short Report: Big-O Notation: \n",
    "#### 1. What is Big-O Notation?\n",
    "##### Big-O tells us how fast an algorithm grows when input size increases.\n",
    "\n",
    "##### It shows the worst-case time or space usage.\n",
    "\n",
    "##### It helps compare algorithms easily."
   ]
  },
  {
   "cell_type": "code",
   "execution_count": null,
   "id": "9572873b-b822-4dde-9080-19652d5de86b",
   "metadata": {},
   "outputs": [],
   "source": []
  }
 ],
 "metadata": {
  "kernelspec": {
   "display_name": "Python 3 (ipykernel)",
   "language": "python",
   "name": "python3"
  },
  "language_info": {
   "codemirror_mode": {
    "name": "ipython",
    "version": 3
   },
   "file_extension": ".py",
   "mimetype": "text/x-python",
   "name": "python",
   "nbconvert_exporter": "python",
   "pygments_lexer": "ipython3",
   "version": "3.11.7"
  }
 },
 "nbformat": 4,
 "nbformat_minor": 5
}
