{
 "cells": [
  {
   "cell_type": "markdown",
   "id": "a77270b0",
   "metadata": {},
   "source": [
    "### Generating All Possible Permutations of a String"
   ]
  },
  {
   "cell_type": "code",
   "execution_count": 1,
   "id": "e5fe7214",
   "metadata": {},
   "outputs": [
    {
     "name": "stdout",
     "output_type": "stream",
     "text": [
      "['ABC', 'ACB', 'BAC', 'BCA', 'CBA', 'CAB']\n"
     ]
    }
   ],
   "source": [
    "def permute(s):\n",
    "    result = []\n",
    "    s = list(s)\n",
    "\n",
    "    def backtrack(start):\n",
    "        if start == len(s):\n",
    "            result.append(\"\".join(s))\n",
    "            return\n",
    "        for i in range(start, len(s)):\n",
    "            s[start], s[i] = s[i], s[start]\n",
    "            backtrack(start + 1)\n",
    "            s[start], s[i] = s[i], s[start]\n",
    "\n",
    "    backtrack(0)\n",
    "    return result\n",
    "\n",
    "print(permute(\"ABC\"))\n"
   ]
  },
  {
   "cell_type": "code",
   "execution_count": null,
   "id": "e15ff5ed",
   "metadata": {},
   "outputs": [],
   "source": []
  }
 ],
 "metadata": {
  "kernelspec": {
   "display_name": "Python 3",
   "language": "python",
   "name": "python3"
  },
  "language_info": {
   "codemirror_mode": {
    "name": "ipython",
    "version": 3
   },
   "file_extension": ".py",
   "mimetype": "text/x-python",
   "name": "python",
   "nbconvert_exporter": "python",
   "pygments_lexer": "ipython3",
   "version": "3.12.4"
  }
 },
 "nbformat": 4,
 "nbformat_minor": 5
}
