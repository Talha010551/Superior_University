{
 "cells": [
  {
   "cell_type": "markdown",
   "id": "220855e3",
   "metadata": {},
   "source": [
    "###  Implementing Dijkstra’s Algorithm for Shortest Path"
   ]
  },
  {
   "cell_type": "code",
   "execution_count": 1,
   "id": "6d43d73d",
   "metadata": {},
   "outputs": [
    {
     "name": "stdout",
     "output_type": "stream",
     "text": [
      "{'A': 0, 'B': 3, 'C': 1, 'D': 4}\n"
     ]
    }
   ],
   "source": [
    "import heapq\n",
    "\n",
    "class Graph:\n",
    "    def __init__(self):\n",
    "        self.adj_list = {}\n",
    "\n",
    "    def add_edge(self, src, dest, weight):\n",
    "        if src not in self.adj_list:\n",
    "            self.adj_list[src] = []\n",
    "        if dest not in self.adj_list:\n",
    "            self.adj_list[dest] = []\n",
    "        self.adj_list[src].append((dest, weight))\n",
    "        self.adj_list[dest].append((src, weight))\n",
    "\n",
    "    def dijkstra(self, start):\n",
    "        pq = [(0, start)]\n",
    "        distances = {vertex: float('inf') for vertex in self.adj_list}\n",
    "        distances[start] = 0\n",
    "        while pq:\n",
    "            current_dist, current_vertex = heapq.heappop(pq)\n",
    "            if current_dist > distances[current_vertex]:\n",
    "                continue\n",
    "            for neighbor, weight in self.adj_list[current_vertex]:\n",
    "                distance = current_dist + weight\n",
    "                if distance < distances[neighbor]:\n",
    "                    distances[neighbor] = distance\n",
    "                    heapq.heappush(pq, (distance, neighbor))\n",
    "        return distances\n",
    "\n",
    "g = Graph()\n",
    "g.add_edge(\"A\", \"B\", 4)\n",
    "g.add_edge(\"A\", \"C\", 1)\n",
    "g.add_edge(\"C\", \"B\", 2)\n",
    "g.add_edge(\"B\", \"D\", 1)\n",
    "\n",
    "print(g.dijkstra(\"A\"))\n"
   ]
  },
  {
   "cell_type": "code",
   "execution_count": null,
   "id": "6da9fd82",
   "metadata": {},
   "outputs": [],
   "source": []
  }
 ],
 "metadata": {
  "kernelspec": {
   "display_name": "Python 3",
   "language": "python",
   "name": "python3"
  },
  "language_info": {
   "codemirror_mode": {
    "name": "ipython",
    "version": 3
   },
   "file_extension": ".py",
   "mimetype": "text/x-python",
   "name": "python",
   "nbconvert_exporter": "python",
   "pygments_lexer": "ipython3",
   "version": "3.12.4"
  }
 },
 "nbformat": 4,
 "nbformat_minor": 5
}
