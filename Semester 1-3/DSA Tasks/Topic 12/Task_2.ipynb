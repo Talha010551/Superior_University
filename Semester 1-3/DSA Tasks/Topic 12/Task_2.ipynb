{
 "cells": [
  {
   "cell_type": "markdown",
   "id": "41db1dcd",
   "metadata": {},
   "source": [
    "###  Implementing Breadth-First Search (BFS) & Depth-First Search (DFS)"
   ]
  },
  {
   "cell_type": "code",
   "execution_count": 1,
   "id": "b1d1b5ed",
   "metadata": {},
   "outputs": [
    {
     "name": "stdout",
     "output_type": "stream",
     "text": [
      "[0, 1, 2, 3]\n",
      "[0, 1, 3, 2]\n",
      "[0, 2, 3, 1]\n"
     ]
    }
   ],
   "source": [
    "from collections import deque\n",
    "\n",
    "class Graph:\n",
    "    def __init__(self):\n",
    "        self.adj_list = {}\n",
    "\n",
    "    def add_edge(self, src, dest):\n",
    "        if src not in self.adj_list:\n",
    "            self.adj_list[src] = []\n",
    "        if dest not in self.adj_list:\n",
    "            self.adj_list[dest] = []\n",
    "        self.adj_list[src].append(dest)\n",
    "        self.adj_list[dest].append(src)\n",
    "\n",
    "    def bfs(self, start):\n",
    "        visited = set()\n",
    "        queue = deque([start])\n",
    "        result = []\n",
    "        visited.add(start)\n",
    "\n",
    "        while queue:\n",
    "            vertex = queue.popleft()\n",
    "            result.append(vertex)\n",
    "            for neighbor in self.adj_list[vertex]:\n",
    "                if neighbor not in visited:\n",
    "                    visited.add(neighbor)\n",
    "                    queue.append(neighbor)\n",
    "        return result\n",
    "\n",
    "    def dfs_recursive(self, start, visited=None):\n",
    "        if visited is None:\n",
    "            visited = set()\n",
    "        visited.add(start)\n",
    "        result = [start]\n",
    "        for neighbor in self.adj_list[start]:\n",
    "            if neighbor not in visited:\n",
    "                result.extend(self.dfs_recursive(neighbor, visited))\n",
    "        return result\n",
    "\n",
    "    def dfs_stack(self, start):\n",
    "        visited = set()\n",
    "        stack = [start]\n",
    "        result = []\n",
    "\n",
    "        while stack:\n",
    "            vertex = stack.pop()\n",
    "            if vertex not in visited:\n",
    "                visited.add(vertex)\n",
    "                result.append(vertex)\n",
    "                for neighbor in self.adj_list[vertex]:\n",
    "                    if neighbor not in visited:\n",
    "                        stack.append(neighbor)\n",
    "        return result\n",
    "\n",
    "g = Graph()\n",
    "g.add_edge(0, 1)\n",
    "g.add_edge(0, 2)\n",
    "g.add_edge(1, 3)\n",
    "g.add_edge(2, 3)\n",
    "\n",
    "print(g.bfs(0))  \n",
    "print(g.dfs_recursive(0))  \n",
    "print(g.dfs_stack(0)) "
   ]
  },
  {
   "cell_type": "code",
   "execution_count": null,
   "id": "1ac8e933",
   "metadata": {},
   "outputs": [],
   "source": []
  }
 ],
 "metadata": {
  "kernelspec": {
   "display_name": "Python 3",
   "language": "python",
   "name": "python3"
  },
  "language_info": {
   "codemirror_mode": {
    "name": "ipython",
    "version": 3
   },
   "file_extension": ".py",
   "mimetype": "text/x-python",
   "name": "python",
   "nbconvert_exporter": "python",
   "pygments_lexer": "ipython3",
   "version": "3.12.4"
  }
 },
 "nbformat": 4,
 "nbformat_minor": 5
}
