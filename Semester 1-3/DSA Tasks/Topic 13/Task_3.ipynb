{
 "cells": [
  {
   "cell_type": "markdown",
   "id": "d5a13e44",
   "metadata": {},
   "source": [
    "### Implementing Kruskal’s Algorithm for Minimum Spanning Tree (MST)"
   ]
  },
  {
   "cell_type": "code",
   "execution_count": 1,
   "id": "b4bce282",
   "metadata": {},
   "outputs": [
    {
     "name": "stdout",
     "output_type": "stream",
     "text": [
      "[(2, 3, 1), (3, 4, 2), (1, 3, 3)]\n"
     ]
    }
   ],
   "source": [
    "class UnionFind:\n",
    "    def __init__(self, n):\n",
    "        self.parent = list(range(n))\n",
    "        self.rank = [0] * n\n",
    "\n",
    "    def find(self, x):\n",
    "        if self.parent[x] != x:\n",
    "            self.parent[x] = self.find(self.parent[x])\n",
    "        return self.parent[x]\n",
    "\n",
    "    def union(self, x, y):\n",
    "        rootX = self.find(x)\n",
    "        rootY = self.find(y)\n",
    "        if rootX != rootY:\n",
    "            if self.rank[rootX] > self.rank[rootY]:\n",
    "                self.parent[rootY] = rootX\n",
    "            elif self.rank[rootX] < self.rank[rootY]:\n",
    "                self.parent[rootX] = rootY\n",
    "            else:\n",
    "                self.parent[rootY] = rootX\n",
    "                self.rank[rootX] += 1\n",
    "\n",
    "def kruskal(edges, n):\n",
    "    edges.sort(key=lambda x: x[2])\n",
    "    uf = UnionFind(n)\n",
    "    mst = []\n",
    "    \n",
    "    for u, v, weight in edges:\n",
    "        if uf.find(u-1) != uf.find(v-1):\n",
    "            uf.union(u-1, v-1)\n",
    "            mst.append((u, v, weight))\n",
    "    \n",
    "    return mst\n",
    "\n",
    "edges = [(1, 2, 4), (2, 3, 1), (1, 3, 3), (3, 4, 2)]\n",
    "print(kruskal(edges, 4))\n"
   ]
  },
  {
   "cell_type": "code",
   "execution_count": null,
   "id": "f7426780",
   "metadata": {},
   "outputs": [],
   "source": []
  }
 ],
 "metadata": {
  "kernelspec": {
   "display_name": "Python 3",
   "language": "python",
   "name": "python3"
  },
  "language_info": {
   "codemirror_mode": {
    "name": "ipython",
    "version": 3
   },
   "file_extension": ".py",
   "mimetype": "text/x-python",
   "name": "python",
   "nbconvert_exporter": "python",
   "pygments_lexer": "ipython3",
   "version": "3.12.4"
  }
 },
 "nbformat": 4,
 "nbformat_minor": 5
}
