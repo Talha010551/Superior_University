{
 "cells": [
  {
   "cell_type": "markdown",
   "id": "b8c46565",
   "metadata": {},
   "source": [
    "### Implementing a Simple Caching Mechanism Using Hash Maps"
   ]
  },
  {
   "cell_type": "code",
   "execution_count": 2,
   "id": "e5b58ff6",
   "metadata": {},
   "outputs": [
    {
     "name": "stdout",
     "output_type": "stream",
     "text": [
      "Cache state: 8: 'H'  5: 'E'  7: 'G'  4: 'D'  6: 'F'  \n"
     ]
    }
   ],
   "source": [
    "class Node:\n",
    "    def __init__(self, key, value):\n",
    "        self.key = key\n",
    "        self.value = value\n",
    "        self.prev = None\n",
    "        self.next = None\n",
    "\n",
    "class LRUCache:\n",
    "    def __init__(self, capacity):\n",
    "        self.capacity = capacity\n",
    "        self.cache = {}  \n",
    "        self.head = Node(0, 0)  \n",
    "        self.tail = Node(0, 0)  \n",
    "        self.head.next = self.tail\n",
    "        self.tail.prev = self.head\n",
    "\n",
    "    def _remove(self, node):\n",
    "        prev_node = node.prev\n",
    "        next_node = node.next\n",
    "        prev_node.next = next_node\n",
    "        next_node.prev = prev_node\n",
    "\n",
    "    def _add_to_front(self, node):\n",
    "        node.prev = self.head\n",
    "        node.next = self.head.next\n",
    "        self.head.next.prev = node\n",
    "        self.head.next = node\n",
    "\n",
    "    def get(self, key):\n",
    "        if key in self.cache:\n",
    "            node = self.cache[key]\n",
    "            self._remove(node)\n",
    "            self._add_to_front(node)\n",
    "            return node.value\n",
    "        return None\n",
    "\n",
    "    def put(self, key, value):\n",
    "        if key in self.cache:\n",
    "            self._remove(self.cache[key])\n",
    "        elif len(self.cache) >= self.capacity:\n",
    "            lru = self.tail.prev\n",
    "            self._remove(lru)\n",
    "            del self.cache[lru.key]\n",
    "\n",
    "        new_node = Node(key, value)\n",
    "        self._add_to_front(new_node)\n",
    "        self.cache[key] = new_node\n",
    "\n",
    "    def display(self):\n",
    "        current = self.head.next\n",
    "        print(\"Cache state:\", end=\" \")\n",
    "        while current != self.tail:\n",
    "            print(f\"{current.key}: '{current.value}'\", end=\"  \")\n",
    "            current = current.next\n",
    "        print()\n",
    "\n",
    "cache = LRUCache(5)\n",
    "\n",
    "cache.put(1, \"A\")\n",
    "cache.put(2, \"B\")\n",
    "cache.put(3, \"C\")\n",
    "cache.put(4, \"D\")\n",
    "cache.put(5, \"E\")\n",
    "cache.get(2)       \n",
    "cache.put(6, \"F\") \n",
    "cache.get(4)      \n",
    "cache.put(7, \"G\")  \n",
    "cache.get(5)      \n",
    "cache.put(8, \"H\")  \n",
    "cache.display()\n"
   ]
  },
  {
   "cell_type": "markdown",
   "id": "3c9d4071",
   "metadata": {},
   "source": []
  }
 ],
 "metadata": {
  "kernelspec": {
   "display_name": "Python 3",
   "language": "python",
   "name": "python3"
  },
  "language_info": {
   "codemirror_mode": {
    "name": "ipython",
    "version": 3
   },
   "file_extension": ".py",
   "mimetype": "text/x-python",
   "name": "python",
   "nbconvert_exporter": "python",
   "pygments_lexer": "ipython3",
   "version": "3.12.4"
  }
 },
 "nbformat": 4,
 "nbformat_minor": 5
}
