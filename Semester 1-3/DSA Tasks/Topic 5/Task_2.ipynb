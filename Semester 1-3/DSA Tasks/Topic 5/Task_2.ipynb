{
 "cells": [
  {
   "cell_type": "markdown",
   "id": "e88d7952",
   "metadata": {},
   "source": [
    "### Checking if Two Strings Are Anagrams Using Hashing"
   ]
  },
  {
   "cell_type": "code",
   "execution_count": 1,
   "id": "177bd2e5",
   "metadata": {},
   "outputs": [
    {
     "name": "stdout",
     "output_type": "stream",
     "text": [
      "True\n",
      "False\n",
      "True\n",
      "True\n",
      "False\n"
     ]
    }
   ],
   "source": [
    "def are_anagrams(str1, str2):\n",
    "    if len(str1) != len(str2):\n",
    "        return False\n",
    "\n",
    "    count = {}\n",
    "\n",
    "    for char in str1:\n",
    "        count[char] = count.get(char, 0) + 1\n",
    "\n",
    "    for char in str2:\n",
    "        if char not in count:\n",
    "            return False\n",
    "        count[char] -= 1\n",
    "        if count[char] < 0:\n",
    "            return False\n",
    "\n",
    "    return True\n",
    "\n",
    "print(are_anagrams(\"listen\", \"silent\"))  \n",
    "print(are_anagrams(\"hello\", \"world\"))    \n",
    "print(are_anagrams(\"triangle\", \"integral\"))  \n",
    "print(are_anagrams(\"aabbcc\", \"abcabc\"))  \n",
    "print(are_anagrams(\"abcd\", \"abcde\"))     \n"
   ]
  },
  {
   "cell_type": "markdown",
   "id": "58e19722",
   "metadata": {},
   "source": []
  }
 ],
 "metadata": {
  "kernelspec": {
   "display_name": "Python 3",
   "language": "python",
   "name": "python3"
  },
  "language_info": {
   "codemirror_mode": {
    "name": "ipython",
    "version": 3
   },
   "file_extension": ".py",
   "mimetype": "text/x-python",
   "name": "python",
   "nbconvert_exporter": "python",
   "pygments_lexer": "ipython3",
   "version": "3.12.4"
  }
 },
 "nbformat": 4,
 "nbformat_minor": 5
}
