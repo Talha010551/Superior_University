{
 "cells": [
  {
   "cell_type": "markdown",
   "id": "f7d8d2b6",
   "metadata": {},
   "source": [
    "## Graphs & Graph Algorithms\n",
    "### Implementing a Graph Using Adjacency List & Adjacency Matrix"
   ]
  },
  {
   "cell_type": "code",
   "execution_count": 1,
   "id": "3e613045",
   "metadata": {},
   "outputs": [
    {
     "name": "stdout",
     "output_type": "stream",
     "text": [
      "Adjacency List:\n",
      "0: [1, 2]\n",
      "1: [0, 3]\n",
      "2: [0, 4]\n",
      "3: [1]\n",
      "4: [2]\n",
      "\n",
      "Adjacency Matrix:\n",
      "[0, 1, 1, 0, 0]\n",
      "[1, 0, 0, 1, 0]\n",
      "[1, 0, 0, 0, 1]\n",
      "[0, 1, 0, 0, 0]\n",
      "[0, 0, 1, 0, 0]\n"
     ]
    }
   ],
   "source": [
    "class Graph:\n",
    "    def __init__(self, vertices, graph_type='undirected'):\n",
    "        self.vertices = vertices\n",
    "        self.graph_type = graph_type\n",
    "        self.adj_list = {i: [] for i in range(vertices)}\n",
    "        self.adj_matrix = [[0] * vertices for _ in range(vertices)]\n",
    "\n",
    "    def add_edge(self, v1, v2):\n",
    "        self.adj_list[v1].append(v2)\n",
    "        self.adj_matrix[v1][v2] = 1\n",
    "        if self.graph_type == 'undirected':\n",
    "            self.adj_list[v2].append(v1)\n",
    "            self.adj_matrix[v2][v1] = 1\n",
    "\n",
    "    def remove_edge(self, v1, v2):\n",
    "        self.adj_list[v1].remove(v2)\n",
    "        self.adj_matrix[v1][v2] = 0\n",
    "        if self.graph_type == 'undirected':\n",
    "            self.adj_list[v2].remove(v1)\n",
    "            self.adj_matrix[v2][v1] = 0\n",
    "\n",
    "    def display(self):\n",
    "        print(\"Adjacency List:\")\n",
    "        for vertex in self.adj_list:\n",
    "            print(f\"{vertex}: {self.adj_list[vertex]}\")\n",
    "        print(\"\\nAdjacency Matrix:\")\n",
    "        for row in self.adj_matrix:\n",
    "            print(row)\n",
    "\n",
    "g = Graph(5)\n",
    "g.add_edge(0, 1)\n",
    "g.add_edge(0, 2)\n",
    "g.add_edge(1, 3)\n",
    "g.add_edge(2, 4)\n",
    "g.display()\n"
   ]
  },
  {
   "cell_type": "code",
   "execution_count": null,
   "id": "9eed4bea",
   "metadata": {},
   "outputs": [],
   "source": []
  }
 ],
 "metadata": {
  "kernelspec": {
   "display_name": "Python 3",
   "language": "python",
   "name": "python3"
  },
  "language_info": {
   "codemirror_mode": {
    "name": "ipython",
    "version": 3
   },
   "file_extension": ".py",
   "mimetype": "text/x-python",
   "name": "python",
   "nbconvert_exporter": "python",
   "pygments_lexer": "ipython3",
   "version": "3.12.4"
  }
 },
 "nbformat": 4,
 "nbformat_minor": 5
}
