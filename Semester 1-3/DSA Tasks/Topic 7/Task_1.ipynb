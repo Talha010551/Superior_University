{
 "cells": [
  {
   "cell_type": "markdown",
   "id": "5b20524a",
   "metadata": {},
   "source": [
    "## Heaps & Priority Queues\n",
    "###  Implementing a Min-Heap and Max-Heap"
   ]
  },
  {
   "cell_type": "code",
   "execution_count": 1,
   "id": "a276ceee",
   "metadata": {},
   "outputs": [
    {
     "name": "stdout",
     "output_type": "stream",
     "text": [
      "2\n",
      "20\n"
     ]
    }
   ],
   "source": [
    "class Heap:\n",
    "    def __init__(self, type=\"min\"):\n",
    "        self.heap = []\n",
    "        self.type = type\n",
    "\n",
    "    def insert(self, value):\n",
    "        self.heap.append(value)\n",
    "        self._sift_up(len(self.heap) - 1)\n",
    "\n",
    "    def extract_root(self):\n",
    "        if not self.heap:\n",
    "            return None\n",
    "        root = self.heap[0]\n",
    "        last = self.heap.pop()\n",
    "        if self.heap:\n",
    "            self.heap[0] = last\n",
    "            self._sift_down(0)\n",
    "        return root\n",
    "\n",
    "    def peek(self):\n",
    "        if self.heap:\n",
    "            return self.heap[0]\n",
    "        return None\n",
    "\n",
    "    def heapify(self, array):\n",
    "        self.heap = array[:]\n",
    "        for i in reversed(range(len(self.heap) // 2)):\n",
    "            self._sift_down(i)\n",
    "\n",
    "    def _compare(self, a, b):\n",
    "        if self.type == \"min\":\n",
    "            return a < b\n",
    "        return a > b\n",
    "\n",
    "    def _sift_up(self, idx):\n",
    "        parent = (idx - 1) // 2\n",
    "        while idx > 0 and self._compare(self.heap[idx], self.heap[parent]):\n",
    "            self.heap[idx], self.heap[parent] = self.heap[parent], self.heap[idx]\n",
    "            idx = parent\n",
    "            parent = (idx - 1) // 2\n",
    "\n",
    "    def _sift_down(self, idx):\n",
    "        size = len(self.heap)\n",
    "        while True:\n",
    "            left = 2 * idx + 1\n",
    "            right = 2 * idx + 2\n",
    "            target = idx\n",
    "\n",
    "            if left < size and self._compare(self.heap[left], self.heap[target]):\n",
    "                target = left\n",
    "            if right < size and self._compare(self.heap[right], self.heap[target]):\n",
    "                target = right\n",
    "            if target == idx:\n",
    "                break\n",
    "            self.heap[idx], self.heap[target] = self.heap[target], self.heap[idx]\n",
    "            idx = target\n",
    "\n",
    "min_heap = Heap(\"min\")\n",
    "min_heap.insert(10)\n",
    "min_heap.insert(5)\n",
    "min_heap.insert(20)\n",
    "min_heap.insert(2)\n",
    "print(min_heap.extract_root())\n",
    "\n",
    "max_heap = Heap(\"max\")\n",
    "max_heap.insert(10)\n",
    "max_heap.insert(5)\n",
    "max_heap.insert(20)\n",
    "max_heap.insert(2)\n",
    "print(max_heap.extract_root())  "
   ]
  },
  {
   "cell_type": "code",
   "execution_count": null,
   "id": "c0cf3308",
   "metadata": {},
   "outputs": [],
   "source": []
  }
 ],
 "metadata": {
  "kernelspec": {
   "display_name": "Python 3",
   "language": "python",
   "name": "python3"
  },
  "language_info": {
   "codemirror_mode": {
    "name": "ipython",
    "version": 3
   },
   "file_extension": ".py",
   "mimetype": "text/x-python",
   "name": "python",
   "nbconvert_exporter": "python",
   "pygments_lexer": "ipython3",
   "version": "3.12.4"
  }
 },
 "nbformat": 4,
 "nbformat_minor": 5
}
