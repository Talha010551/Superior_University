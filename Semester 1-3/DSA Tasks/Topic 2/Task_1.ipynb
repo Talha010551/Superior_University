{
 "cells": [
  {
   "cell_type": "markdown",
   "id": "a612eed3",
   "metadata": {},
   "source": [
    "## Topic 2: Arrays & Strings\n",
    "### Task 1: Implementing Custom Array Operations"
   ]
  },
  {
   "cell_type": "code",
   "execution_count": 22,
   "id": "5d162065",
   "metadata": {},
   "outputs": [
    {
     "name": "stdout",
     "output_type": "stream",
     "text": [
      "[10, 20, 30, None]\n",
      "[10, 15, 20, 30]\n",
      "[10, 15, 30, None]\n",
      "Found 15 at index: 1\n",
      "Found 100 at index: -1\n"
     ]
    }
   ],
   "source": [
    "class DynamicArray:\n",
    "    def __init__(self):\n",
    "        self.capacity = 2\n",
    "        self.size = 0\n",
    "        self.array = [None] * self.capacity\n",
    "\n",
    "    def insert_end(self, value):\n",
    "        if self.size == self.capacity:\n",
    "            self.resize()\n",
    "        self.array[self.size] = value\n",
    "        self.size += 1\n",
    "\n",
    "    def insert_at(self, index, value):\n",
    "        if index < 0 or index > self.size:\n",
    "            print(\"Invalid index\")\n",
    "            return\n",
    "        if self.size == self.capacity:\n",
    "            self.resize()\n",
    "        for i in range(self.size, index, -1):\n",
    "            self.array[i] = self.array[i-1]\n",
    "        self.array[index] = value\n",
    "        self.size += 1\n",
    "\n",
    "    def delete_at(self, index):\n",
    "        if index < 0 or index >= self.size:\n",
    "            print(\"Invalid index\")\n",
    "            return\n",
    "        for i in range(index, self.size - 1):\n",
    "            self.array[i] = self.array[i+1]\n",
    "        self.array[self.size - 1] = None\n",
    "        self.size -= 1\n",
    "\n",
    "    def search(self, value):\n",
    "        for i in range(self.size):\n",
    "            if self.array[i] == value:\n",
    "                return i\n",
    "        return -1\n",
    "\n",
    "    def resize(self):\n",
    "        self.capacity *= 2\n",
    "        new_array = [None] * self.capacity\n",
    "        for i in range(self.size):\n",
    "            new_array[i] = self.array[i]\n",
    "        self.array = new_array\n",
    "\n",
    "da = DynamicArray()\n",
    "\n",
    "da.insert_end(10)\n",
    "da.insert_end(20)\n",
    "da.insert_end(30)\n",
    "print(da.array)  \n",
    "\n",
    "da.insert_at(1, 15)\n",
    "print(da.array)  \n",
    "\n",
    "da.delete_at(2)\n",
    "print(da.array)  \n",
    "\n",
    "index = da.search(15)\n",
    "print(\"Found 15 at index:\", index)  \n",
    "\n",
    "index = da.search(100)\n",
    "print(\"Found 100 at index:\", index)  \n",
    "\n"
   ]
  },
  {
   "cell_type": "markdown",
   "id": "ab094b14",
   "metadata": {},
   "source": [
    "#  Next Part  "
   ]
  },
  {
   "cell_type": "markdown",
   "id": "a87a1acf-8501-4d1a-9105-ff3562b98abc",
   "metadata": {},
   "source": [
    "### Task 2: Finding the Longest Substring Without Repeating Characters"
   ]
  },
  {
   "cell_type": "markdown",
   "id": "c01b87d3-453e-498a-9bb7-c5172de519cf",
   "metadata": {},
   "source": [
    "#### Step 1: Brute Force Method (O(n²)) \n"
   ]
  },
  {
   "cell_type": "code",
   "execution_count": 1,
   "id": "fdcb04d0-2105-4234-8452-858ebe55c636",
   "metadata": {},
   "outputs": [],
   "source": [
    "def longest_substring_brute(s):\n",
    "    max_length = 0\n",
    "    longest = \"\"\n",
    "\n",
    "    for i in range(len(s)):\n",
    "        seen = set()\n",
    "        current = \"\"\n",
    "\n",
    "        for j in range(i, len(s)):\n",
    "            if s[j] in seen:\n",
    "                break\n",
    "            seen.add(s[j])\n",
    "            current += s[j]\n",
    "\n",
    "        if len(current) > max_length:\n",
    "            max_length = len(current)\n",
    "            longest = current\n",
    "\n",
    "    return longest, max_length"
   ]
  },
  {
   "cell_type": "markdown",
   "id": "bba24032-26bc-4416-a570-1266fdbfd11e",
   "metadata": {},
   "source": [
    "#### Step 2: Sliding Window Method (O(n)) "
   ]
  },
  {
   "cell_type": "code",
   "execution_count": 2,
   "id": "12989045-adc2-4f0c-a787-761ce6a482ca",
   "metadata": {},
   "outputs": [],
   "source": [
    "def longest_substring_sliding(s):\n",
    "    start = 0\n",
    "    max_length = 0\n",
    "    longest = \"\"\n",
    "    seen = {}\n",
    "\n",
    "    for end in range(len(s)):\n",
    "        if s[end] in seen and seen[s[end]] >= start:\n",
    "            start = seen[s[end]] + 1\n",
    "\n",
    "        seen[s[end]] = end\n",
    "\n",
    "        if end - start + 1 > max_length:\n",
    "            max_length = end - start + 1\n",
    "            longest = s[start:end+1]\n",
    "\n",
    "    return longest, max_length\n"
   ]
  },
  {
   "cell_type": "markdown",
   "id": "0af723a6-82ea-4780-96d4-fe5e594c4c20",
   "metadata": {},
   "source": [
    "### Step 3: Execution Time Comparison"
   ]
  },
  {
   "cell_type": "code",
   "execution_count": 3,
   "id": "ead9cfb3-3fef-4f74-a09a-0a20a57eba18",
   "metadata": {},
   "outputs": [
    {
     "name": "stdout",
     "output_type": "stream",
     "text": [
      "Brute Force - Longest substring: 'abc', Length: 3, Time: 0.000000 seconds\n",
      "Sliding Window - Longest substring: 'abc', Length: 3, Time: 0.000085 seconds\n"
     ]
    }
   ],
   "source": [
    "import time\n",
    "\n",
    "s = \"abcabcbb\"\n",
    "\n",
    "\n",
    "start_time = time.time()\n",
    "longest_bf, length_bf = longest_substring_brute(s)\n",
    "end_time = time.time()\n",
    "print(f\"Brute Force - Longest substring: '{longest_bf}', Length: {length_bf}, Time: {end_time - start_time:.6f} seconds\")\n",
    "\n",
    "\n",
    "start_time = time.time()\n",
    "longest_sw, length_sw = longest_substring_sliding(s)\n",
    "end_time = time.time()\n",
    "print(f\"Sliding Window - Longest substring: '{longest_sw}', Length: {length_sw}, Time: {end_time - start_time:.6f} seconds\")\n"
   ]
  },
  {
   "cell_type": "markdown",
   "id": "4952cc1c-a63c-4f91-8561-97f55e4d8963",
   "metadata": {},
   "source": [
    "# Next Part "
   ]
  },
  {
   "cell_type": "markdown",
   "id": "1f7c095f-4202-4962-86d8-6e01e852fc44",
   "metadata": {},
   "source": [
    "### Task 3: Two-Dimensional Array – Image Rotation:"
   ]
  },
  {
   "cell_type": "markdown",
   "id": "36c0c65d-08c2-47f7-9779-939b70bb27f7",
   "metadata": {},
   "source": [
    "### Step 1: Python Code to Rotate Matrix 90° Clockwise"
   ]
  },
  {
   "cell_type": "code",
   "execution_count": 4,
   "id": "e59d05d2-b7b6-465b-81fc-b0baaaeefaee",
   "metadata": {},
   "outputs": [
    {
     "name": "stdout",
     "output_type": "stream",
     "text": [
      "[7, 4, 1]\n",
      "[8, 5, 2]\n",
      "[9, 6, 3]\n"
     ]
    }
   ],
   "source": [
    "def rotate_matrix(matrix):\n",
    "    n = len(matrix)\n",
    "\n",
    "    for i in range(n):\n",
    "        for j in range(i, n ):\n",
    "           matrix[i][j], matrix[j][i] = matrix[j][i], matrix[i][j]\n",
    "\n",
    "    for i in range(n):\n",
    "        matrix[i].reverse()\n",
    "\n",
    "matrix = [\n",
    "    [1, 2, 3],\n",
    "    [4, 5, 6],\n",
    "    [7, 8, 9]   \n",
    "]\n",
    "\n",
    "rotate_matrix(matrix)\n",
    "\n",
    "for row in matrix:\n",
    "    print(row)"
   ]
  },
  {
   "cell_type": "code",
   "execution_count": null,
   "id": "6aa34f9a-be00-42ff-83f2-f19d91622bc8",
   "metadata": {},
   "outputs": [],
   "source": []
  }
 ],
 "metadata": {
  "kernelspec": {
   "display_name": "Python 3 (ipykernel)",
   "language": "python",
   "name": "python3"
  },
  "language_info": {
   "codemirror_mode": {
    "name": "ipython",
    "version": 3
   },
   "file_extension": ".py",
   "mimetype": "text/x-python",
   "name": "python",
   "nbconvert_exporter": "python",
   "pygments_lexer": "ipython3",
   "version": "3.11.7"
  }
 },
 "nbformat": 4,
 "nbformat_minor": 5
}
