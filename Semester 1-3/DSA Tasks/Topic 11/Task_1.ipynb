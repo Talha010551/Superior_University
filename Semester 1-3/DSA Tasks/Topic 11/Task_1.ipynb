{
 "cells": [
  {
   "cell_type": "markdown",
   "id": "d7f2c287",
   "metadata": {},
   "source": [
    "## Hashing & Hash Tables\n",
    "### Implementing a Simple Hash Table with Collision Handling"
   ]
  },
  {
   "cell_type": "code",
   "execution_count": 2,
   "id": "ffd7ca7b",
   "metadata": {},
   "outputs": [
    {
     "name": "stdout",
     "output_type": "stream",
     "text": [
      "Ali\n",
      "None\n"
     ]
    }
   ],
   "source": [
    "class HashTableChaining:\n",
    "    def __init__(self, size):\n",
    "        self.size = size\n",
    "        self.table = [[] for _ in range(size)]\n",
    "\n",
    "    def insert(self, key, value):\n",
    "        index = hash(key) % self.size\n",
    "        for pair in self.table[index]:\n",
    "            if pair[0] == key:\n",
    "                pair[1] = value\n",
    "                return\n",
    "        self.table[index].append([key, value])\n",
    "\n",
    "    def get(self, key):\n",
    "        index = hash(key) % self.size\n",
    "        for pair in self.table[index]:\n",
    "            if pair[0] == key:\n",
    "                return pair[1]\n",
    "        return None\n",
    "\n",
    "    def delete(self, key):\n",
    "        index = hash(key) % self.size\n",
    "        for i, pair in enumerate(self.table[index]):\n",
    "            if pair[0] == key:\n",
    "                del self.table[index][i]\n",
    "                return\n",
    "\n",
    "ht = HashTableChaining(10)\n",
    "ht.insert(\"name\", \"Ali\")\n",
    "ht.insert(\"age\", 25)\n",
    "print(ht.get(\"name\"))\n",
    "ht.delete(\"age\")\n",
    "print(ht.get(\"age\"))\n"
   ]
  },
  {
   "cell_type": "code",
   "execution_count": 4,
   "id": "e279009e",
   "metadata": {},
   "outputs": [
    {
     "name": "stdout",
     "output_type": "stream",
     "text": [
      "Talha\n",
      "None\n"
     ]
    }
   ],
   "source": [
    "class HashTableProbing:\n",
    "    def __init__(self, size):\n",
    "        self.size = size\n",
    "        self.keys = [None] * size\n",
    "        self.values = [None] * size\n",
    "\n",
    "    def insert(self, key, value):\n",
    "        index = hash(key) % self.size\n",
    "        while self.keys[index] is not None and self.keys[index] != key:\n",
    "            index = (index + 1) % self.size\n",
    "        self.keys[index] = key\n",
    "        self.values[index] = value\n",
    "\n",
    "    def get(self, key):\n",
    "        index = hash(key) % self.size\n",
    "        for _ in range(self.size):\n",
    "            if self.keys[index] == key:\n",
    "                return self.values[index]\n",
    "            if self.keys[index] is None:\n",
    "                return None\n",
    "            index = (index + 1) % self.size\n",
    "        return None\n",
    "\n",
    "    def delete(self, key):\n",
    "        index = hash(key) % self.size\n",
    "        for _ in range(self.size):\n",
    "            if self.keys[index] == key:\n",
    "                self.keys[index] = None\n",
    "                self.values[index] = None\n",
    "                return\n",
    "            if self.keys[index] is None:\n",
    "                return\n",
    "            index = (index + 1) % self.size\n",
    "\n",
    "ht2 = HashTableProbing(10)\n",
    "ht2.insert(\"name\", \"Talha\")\n",
    "ht2.insert(\"age\", 20)\n",
    "print(ht2.get(\"name\"))\n",
    "ht2.delete(\"age\")\n",
    "print(ht2.get(\"age\"))\n"
   ]
  },
  {
   "cell_type": "code",
   "execution_count": null,
   "id": "87e17a77",
   "metadata": {},
   "outputs": [],
   "source": []
  }
 ],
 "metadata": {
  "kernelspec": {
   "display_name": "Python 3",
   "language": "python",
   "name": "python3"
  },
  "language_info": {
   "codemirror_mode": {
    "name": "ipython",
    "version": 3
   },
   "file_extension": ".py",
   "mimetype": "text/x-python",
   "name": "python",
   "nbconvert_exporter": "python",
   "pygments_lexer": "ipython3",
   "version": "3.12.4"
  }
 },
 "nbformat": 4,
 "nbformat_minor": 5
}
