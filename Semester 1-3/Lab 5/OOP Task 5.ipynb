{
 "cells": [
  {
   "cell_type": "code",
   "execution_count": 6,
   "id": "c3d973d2-855c-4005-8f48-5dcef3365c5e",
   "metadata": {},
   "outputs": [
    {
     "name": "stdout",
     "output_type": "stream",
     "text": [
      "Book Info: \n",
      "Title: Trust and Inspire\n",
      "Author: f. Stephen M. R. Covey\n",
      "Pages: 190\n",
      "Magazine Info: \n",
      "Title: Simple Living\n",
      "Author: Janet Luhrs\n",
      "Issue Number: 2023\n"
     ]
    }
   ],
   "source": [
    "class Item:\n",
    "    def __init__(self, title, author):\n",
    "        self.title = title\n",
    "        self.author = author\n",
    "\n",
    "    def display_info(self):\n",
    "        print(f\"Title: {self.title}\")\n",
    "        print(f\"Author: {self.author}\")\n",
    "\n",
    "class Book(Item):\n",
    "    def __init__(self, title, author, pages):\n",
    "        super().__init__(title, author)\n",
    "        self.pages = pages\n",
    "\n",
    "    def additional_info(self):\n",
    "        print(f\"Pages: {self.pages}\")\n",
    "\n",
    "class Magazine(Item):\n",
    "    def __init__(self, title, author, issue_number):\n",
    "        super().__init__(title, author)\n",
    "        self.issue_number = issue_number\n",
    "\n",
    "    def additional_info(self):\n",
    "        print(f\"Issue Number: {self.issue_number}\")\n",
    "\n",
    "book = Book(\"Trust and Inspire\", \"f. Stephen M. R. Covey\", 190)\n",
    "magazine = Magazine(\"Simple Living\", \"Janet Luhrs\", 2023)\n",
    "\n",
    "print(\"Book Info: \")\n",
    "book.display_info()\n",
    "book.additional_info()\n",
    "\n",
    "print(\"Magazine Info: \")\n",
    "magazine.display_info()\n",
    "magazine.additional_info()"
   ]
  },
  {
   "cell_type": "code",
   "execution_count": null,
   "id": "b6056236-a1fa-43e0-bdbe-0963d226e0b2",
   "metadata": {},
   "outputs": [],
   "source": []
  }
 ],
 "metadata": {
  "kernelspec": {
   "display_name": "Python 3 (ipykernel)",
   "language": "python",
   "name": "python3"
  },
  "language_info": {
   "codemirror_mode": {
    "name": "ipython",
    "version": 3
   },
   "file_extension": ".py",
   "mimetype": "text/x-python",
   "name": "python",
   "nbconvert_exporter": "python",
   "pygments_lexer": "ipython3",
   "version": "3.11.7"
  }
 },
 "nbformat": 4,
 "nbformat_minor": 5
}
