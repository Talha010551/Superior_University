{
 "cells": [
  {
   "cell_type": "markdown",
   "id": "1163137f",
   "metadata": {},
   "source": [
    "##  Step 1: Load the Data\n"
   ]
  },
  {
   "cell_type": "code",
   "execution_count": 1,
   "id": "4e1aad65",
   "metadata": {},
   "outputs": [
    {
     "data": {
      "text/html": [
       "<div>\n",
       "<style scoped>\n",
       "    .dataframe tbody tr th:only-of-type {\n",
       "        vertical-align: middle;\n",
       "    }\n",
       "\n",
       "    .dataframe tbody tr th {\n",
       "        vertical-align: top;\n",
       "    }\n",
       "\n",
       "    .dataframe thead th {\n",
       "        text-align: right;\n",
       "    }\n",
       "</style>\n",
       "<table border=\"1\" class=\"dataframe\">\n",
       "  <thead>\n",
       "    <tr style=\"text-align: right;\">\n",
       "      <th></th>\n",
       "      <th>Unnamed: 0</th>\n",
       "      <th>Name</th>\n",
       "      <th>Brand</th>\n",
       "      <th>Price</th>\n",
       "      <th>Rating</th>\n",
       "      <th>Processor_brand</th>\n",
       "      <th>Processor_name</th>\n",
       "      <th>Processor_variant</th>\n",
       "      <th>Processor_gen</th>\n",
       "      <th>Core_per_processor</th>\n",
       "      <th>...</th>\n",
       "      <th>Graphics_name</th>\n",
       "      <th>Graphics_brand</th>\n",
       "      <th>Graphics_GB</th>\n",
       "      <th>Graphics_integreted</th>\n",
       "      <th>Display_size_inches</th>\n",
       "      <th>Horizontal_pixel</th>\n",
       "      <th>Vertical_pixel</th>\n",
       "      <th>ppi</th>\n",
       "      <th>Touch_screen</th>\n",
       "      <th>Operating_system</th>\n",
       "    </tr>\n",
       "  </thead>\n",
       "  <tbody>\n",
       "    <tr>\n",
       "      <th>0</th>\n",
       "      <td>0</td>\n",
       "      <td>HP Victus 15-fb0157AX Gaming Laptop (AMD Ryzen...</td>\n",
       "      <td>HP</td>\n",
       "      <td>50399</td>\n",
       "      <td>4.30</td>\n",
       "      <td>AMD</td>\n",
       "      <td>AMD Ryzen 5</td>\n",
       "      <td>5600H</td>\n",
       "      <td>5.0</td>\n",
       "      <td>6.0</td>\n",
       "      <td>...</td>\n",
       "      <td>AMD Radeon RX 6500M</td>\n",
       "      <td>AMD</td>\n",
       "      <td>4.0</td>\n",
       "      <td>False</td>\n",
       "      <td>15.6</td>\n",
       "      <td>1920</td>\n",
       "      <td>1080</td>\n",
       "      <td>141.21</td>\n",
       "      <td>True</td>\n",
       "      <td>Windows 11 OS</td>\n",
       "    </tr>\n",
       "    <tr>\n",
       "      <th>1</th>\n",
       "      <td>1</td>\n",
       "      <td>Lenovo V15 G4 ‎82YU00W7IN Laptop (AMD Ryzen 3 ...</td>\n",
       "      <td>Lenovo</td>\n",
       "      <td>26690</td>\n",
       "      <td>4.45</td>\n",
       "      <td>AMD</td>\n",
       "      <td>AMD Ryzen 3</td>\n",
       "      <td>7320U</td>\n",
       "      <td>7.0</td>\n",
       "      <td>4.0</td>\n",
       "      <td>...</td>\n",
       "      <td>AMD Radeon Graphics</td>\n",
       "      <td>AMD</td>\n",
       "      <td>NaN</td>\n",
       "      <td>False</td>\n",
       "      <td>15.6</td>\n",
       "      <td>1920</td>\n",
       "      <td>1080</td>\n",
       "      <td>141.21</td>\n",
       "      <td>False</td>\n",
       "      <td>Windows 11 OS</td>\n",
       "    </tr>\n",
       "  </tbody>\n",
       "</table>\n",
       "<p>2 rows × 29 columns</p>\n",
       "</div>"
      ],
      "text/plain": [
       "   Unnamed: 0                                               Name   Brand  \\\n",
       "0           0  HP Victus 15-fb0157AX Gaming Laptop (AMD Ryzen...      HP   \n",
       "1           1  Lenovo V15 G4 ‎82YU00W7IN Laptop (AMD Ryzen 3 ...  Lenovo   \n",
       "\n",
       "   Price  Rating Processor_brand Processor_name Processor_variant  \\\n",
       "0  50399    4.30             AMD    AMD Ryzen 5             5600H   \n",
       "1  26690    4.45             AMD    AMD Ryzen 3             7320U   \n",
       "\n",
       "   Processor_gen  Core_per_processor  ...        Graphics_name  \\\n",
       "0            5.0                 6.0  ...  AMD Radeon RX 6500M   \n",
       "1            7.0                 4.0  ...  AMD Radeon Graphics   \n",
       "\n",
       "   Graphics_brand  Graphics_GB  Graphics_integreted  Display_size_inches  \\\n",
       "0             AMD          4.0                False                 15.6   \n",
       "1             AMD          NaN                False                 15.6   \n",
       "\n",
       "   Horizontal_pixel Vertical_pixel     ppi Touch_screen Operating_system  \n",
       "0              1920           1080  141.21         True    Windows 11 OS  \n",
       "1              1920           1080  141.21        False    Windows 11 OS  \n",
       "\n",
       "[2 rows x 29 columns]"
      ]
     },
     "execution_count": 1,
     "metadata": {},
     "output_type": "execute_result"
    }
   ],
   "source": [
    "import pandas as pd\n",
    "\n",
    "df = pd.read_csv(\"laptop_cleaned2.csv\")\n",
    "df.head(2)\n",
    "\n"
   ]
  },
  {
   "cell_type": "markdown",
   "id": "4481d8a8",
   "metadata": {},
   "source": [
    "## Step 2: Preprocess the Data"
   ]
  },
  {
   "cell_type": "code",
   "execution_count": 2,
   "id": "08824c46",
   "metadata": {},
   "outputs": [],
   "source": [
    "from sklearn.model_selection import train_test_split\n",
    "from sklearn.preprocessing import StandardScaler, LabelEncoder\n",
    "\n",
    "# Optional: Handle missing values\n",
    "df = df.dropna()  # Or use imputation if needed\n",
    "\n",
    "# Separate features and target\n",
    "# Let's assume \"Price\" is the target variable. Replace with your actual target.\n",
    "target_col = \"Price\"\n",
    "X = df.drop(columns=[target_col])\n",
    "y = df[target_col]\n",
    "\n",
    "# Encode categorical variables\n",
    "X = pd.get_dummies(X)\n",
    "\n",
    "# Normalize/scale features if necessary (especially for regression or distance-based models)\n",
    "scaler = StandardScaler()\n",
    "X_scaled = scaler.fit_transform(X)\n",
    "\n",
    "# Train-test split\n",
    "X_train, X_test, y_train, y_test = train_test_split(X_scaled, y, test_size=0.2, random_state=42)\n"
   ]
  },
  {
   "cell_type": "markdown",
   "id": "ae294899",
   "metadata": {},
   "source": [
    "## Step 3: Choose and Train a Model"
   ]
  },
  {
   "cell_type": "code",
   "execution_count": 3,
   "id": "20276c7b",
   "metadata": {},
   "outputs": [
    {
     "name": "stdout",
     "output_type": "stream",
     "text": [
      "MSE: 2200024703.505452\n"
     ]
    }
   ],
   "source": [
    "from sklearn.ensemble import RandomForestRegressor\n",
    "from sklearn.metrics import mean_squared_error\n",
    "\n",
    "model = RandomForestRegressor()\n",
    "model.fit(X_train, y_train)\n",
    "\n",
    "# Predict and evaluate\n",
    "y_pred = model.predict(X_test)\n",
    "mse = mean_squared_error(y_test, y_pred)\n",
    "print(\"MSE:\", mse)\n"
   ]
  },
  {
   "cell_type": "code",
   "execution_count": 4,
   "id": "3a2e2202",
   "metadata": {},
   "outputs": [
    {
     "name": "stdout",
     "output_type": "stream",
     "text": [
      "Accuracy: 0.02702702702702703\n"
     ]
    }
   ],
   "source": [
    "from sklearn.ensemble import RandomForestClassifier\n",
    "from sklearn.metrics import accuracy_score\n",
    "\n",
    "# Encode target\n",
    "le = LabelEncoder()\n",
    "y_encoded = le.fit_transform(y)\n",
    "y_train, y_test = train_test_split(y_encoded, test_size=0.2, random_state=42)\n",
    "\n",
    "model = RandomForestClassifier()\n",
    "model.fit(X_train, y_train)\n",
    "\n",
    "# Predict and evaluate\n",
    "y_pred = model.predict(X_test)\n",
    "accuracy = accuracy_score(y_test, y_pred)\n",
    "print(\"Accuracy:\", accuracy)\n"
   ]
  },
  {
   "cell_type": "markdown",
   "id": "c5a9fb53",
   "metadata": {},
   "source": []
  },
  {
   "cell_type": "code",
   "execution_count": null,
   "id": "9d217d2d",
   "metadata": {},
   "outputs": [],
   "source": []
  }
 ],
 "metadata": {
  "kernelspec": {
   "display_name": "base",
   "language": "python",
   "name": "python3"
  },
  "language_info": {
   "codemirror_mode": {
    "name": "ipython",
    "version": 3
   },
   "file_extension": ".py",
   "mimetype": "text/x-python",
   "name": "python",
   "nbconvert_exporter": "python",
   "pygments_lexer": "ipython3",
   "version": "3.11.7"
  }
 },
 "nbformat": 4,
 "nbformat_minor": 5
}
