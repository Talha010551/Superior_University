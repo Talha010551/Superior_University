{
 "cells": [
  {
   "cell_type": "markdown",
   "id": "73fcda63-a35e-4f81-80e1-f58656626084",
   "metadata": {},
   "source": [
    "###  Task 1"
   ]
  },
  {
   "cell_type": "code",
   "execution_count": 1,
   "id": "44eb694e-f7d8-418e-a741-16261c6d3bd0",
   "metadata": {},
   "outputs": [
    {
     "name": "stdout",
     "output_type": "stream",
     "text": [
      "Path: [(1, 0), (2, 0), (2, 1), (2, 2), (2, 2)]\n"
     ]
    }
   ],
   "source": [
    "import heapq\n",
    "\n",
    "def heuristic(a, b):\n",
    "    return abs(a[0] - b[0]) + abs(a[1] - b[1])\n",
    "\n",
    "def astar(grid, start, goal):\n",
    "    open_set = [(0, start)]\n",
    "    came_from = {}\n",
    "    cost = {start: 0}\n",
    "    \n",
    "    while open_set:\n",
    "        _, current = heapq.heappop(open_set)\n",
    "        if current == goal:\n",
    "            path = []\n",
    "            while current in came_from:\n",
    "                path.append(current)\n",
    "                current = came_from[current]\n",
    "            return path[::-1] + [goal]\n",
    "        \n",
    "        for dx, dy in [(-1, 0), (1, 0), (0, -1), (0, 1)]:\n",
    "            neighbor = (current[0] + dx, current[1] + dy)\n",
    "            if neighbor in grid and grid[neighbor] == 0:\n",
    "                new_cost = cost[current] + 1\n",
    "                if neighbor not in cost or new_cost < cost[neighbor]:\n",
    "                    cost[neighbor] = new_cost\n",
    "                    came_from[neighbor] = current\n",
    "                    heapq.heappush(open_set, (new_cost + heuristic(neighbor, goal), neighbor))\n",
    "    return []\n",
    "\n",
    "grid = {\n",
    "    (0, 0): 0, (0, 1): 1, (0, 2): 0, (0, 3): 0,\n",
    "    (1, 0): 0, (1, 1): 1, (1, 2): 0, (1, 3): 1,\n",
    "    (2, 0): 0, (2, 1): 0, (2, 2): 0, (2, 3): 1,\n",
    "}\n",
    "\n",
    "start, goal = (0, 0), (2, 2)\n",
    "print(\"Path:\", astar(grid, start, goal))"
   ]
  },
  {
   "cell_type": "code",
   "execution_count": null,
   "id": "806e1672-8efb-42a6-ab7a-7c3c6447771a",
   "metadata": {},
   "outputs": [],
   "source": []
  }
 ],
 "metadata": {
  "kernelspec": {
   "display_name": "Python 3 (ipykernel)",
   "language": "python",
   "name": "python3"
  },
  "language_info": {
   "codemirror_mode": {
    "name": "ipython",
    "version": 3
   },
   "file_extension": ".py",
   "mimetype": "text/x-python",
   "name": "python",
   "nbconvert_exporter": "python",
   "pygments_lexer": "ipython3",
   "version": "3.11.7"
  }
 },
 "nbformat": 4,
 "nbformat_minor": 5
}
