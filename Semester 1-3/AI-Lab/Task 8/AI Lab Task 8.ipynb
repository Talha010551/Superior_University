{
 "cells": [
  {
   "cell_type": "markdown",
   "id": "c83b1f20-46ee-452d-8be4-8cc9f937df7c",
   "metadata": {},
   "source": [
    "### Task 1"
   ]
  },
  {
   "cell_type": "code",
   "execution_count": 1,
   "id": "e1ae2697-0609-4dda-85a3-80ccf0674f15",
   "metadata": {},
   "outputs": [
    {
     "name": "stdout",
     "output_type": "stream",
     "text": [
      "Best move: (2, 2)\n"
     ]
    }
   ],
   "source": [
    "def is_moves_left(board):\n",
    "    for row in board:\n",
    "        if \" \" in row:\n",
    "            return True\n",
    "    return False\n",
    "\n",
    "def evaluate(board):\n",
    "    for row in board:\n",
    "        if row[0] == row[1] == row[2] and row[0] != \" \":\n",
    "            return 10 if row[0] == 'X' else -10\n",
    "    \n",
    "    for col in range(3):\n",
    "        if board[0][col] == board[1][col] == board[2][col] and board[0][col] != \" \":\n",
    "            return 10 if board[0][col] == 'X' else -10\n",
    "    \n",
    "    if board[0][0] == board[1][1] == board[2][2] and board[0][0] != \" \":\n",
    "        return 10 if board[0][0] == 'X' else -10\n",
    "    \n",
    "    if board[0][2] == board[1][1] == board[2][0] and board[0][2] != \" \":\n",
    "        return 10 if board[0][2] == 'X' else -10\n",
    "    \n",
    "    return 0\n",
    "\n",
    "def minimax(board, is_max):\n",
    "    score = evaluate(board)\n",
    "    if score in [10, -10]:\n",
    "        return score\n",
    "    if not is_moves_left(board):\n",
    "        return 0\n",
    "    \n",
    "    best = -1000 if is_max else 1000\n",
    "    player = 'X' if is_max else 'O'\n",
    "    \n",
    "    for i in range(3):\n",
    "        for j in range(3):\n",
    "            if board[i][j] == \" \":\n",
    "                board[i][j] = player\n",
    "                best = max(best, minimax(board, not is_max)) if is_max else min(best, minimax(board, not is_max))\n",
    "                board[i][j] = \" \"\n",
    "    return best\n",
    "\n",
    "def find_best_move(board):\n",
    "    best_val = -1000\n",
    "    best_move = (-1, -1)\n",
    "    \n",
    "    for i in range(3):\n",
    "        for j in range(3):\n",
    "            if board[i][j] == \" \":\n",
    "                board[i][j] = 'X'\n",
    "                move_val = minimax(board, False)\n",
    "                board[i][j] = \" \"\n",
    "                if move_val > best_val:\n",
    "                    best_move = (i, j)\n",
    "                    best_val = move_val\n",
    "    \n",
    "    return best_move\n",
    "\n",
    "\n",
    "board = [['X', 'O', 'X'],\n",
    "         ['O', 'O', 'X'],\n",
    "         [' ', ' ', ' ']]\n",
    "\n",
    "print(\"Best move:\", find_best_move(board))"
   ]
  },
  {
   "cell_type": "code",
   "execution_count": null,
   "id": "d654eac3-bf01-4592-99e5-187d8bda511e",
   "metadata": {},
   "outputs": [],
   "source": []
  }
 ],
 "metadata": {
  "kernelspec": {
   "display_name": "Python 3 (ipykernel)",
   "language": "python",
   "name": "python3"
  },
  "language_info": {
   "codemirror_mode": {
    "name": "ipython",
    "version": 3
   },
   "file_extension": ".py",
   "mimetype": "text/x-python",
   "name": "python",
   "nbconvert_exporter": "python",
   "pygments_lexer": "ipython3",
   "version": "3.11.7"
  }
 },
 "nbformat": 4,
 "nbformat_minor": 5
}
