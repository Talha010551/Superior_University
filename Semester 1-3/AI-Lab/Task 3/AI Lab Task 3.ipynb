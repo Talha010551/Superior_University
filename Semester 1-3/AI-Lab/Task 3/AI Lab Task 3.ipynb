{
 "cells": [
  {
   "cell_type": "markdown",
   "id": "43cc8e41-998e-47fc-b7f4-53492500686b",
   "metadata": {},
   "source": [
    "# Model-Based Reflex Agent "
   ]
  },
  {
   "cell_type": "code",
   "execution_count": 1,
   "id": "4e63a8c0-99fe-44af-8221-a26bdb4dac35",
   "metadata": {},
   "outputs": [
    {
     "name": "stdout",
     "output_type": "stream",
     "text": [
      "Temperature: 20 -> Action: HEATER_ON\n",
      "Temperature: 21 -> Action: NO_CHANGE\n",
      "Temperature: 22 -> Action: HEATER_OFF\n",
      "Temperature: 23 -> Action: NO_CHANGE\n",
      "Temperature: 21 -> Action: HEATER_ON\n",
      "Temperature: 20 -> Action: NO_CHANGE\n",
      "Temperature: 22 -> Action: HEATER_OFF\n",
      "Temperature: 23 -> Action: NO_CHANGE\n"
     ]
    }
   ],
   "source": [
    "class ModelBasedReflexAgent:\n",
    "    def __init__(self, threshold=22):\n",
    "        self.threshold = threshold  \n",
    "        self.previous_action = None \n",
    "    \n",
    "    def perceive_and_act(self, temperature):\n",
    "        if temperature < self.threshold and self.previous_action != \"HEATER_ON\":\n",
    "            action = \"HEATER_ON\"\n",
    "        elif temperature >= self.threshold and self.previous_action != \"HEATER_OFF\":\n",
    "            action = \"HEATER_OFF\"\n",
    "        else:\n",
    "            action = \"NO_CHANGE\"  \n",
    "        \n",
    "        self.previous_action = action if action != \"NO_CHANGE\" else self.previous_action\n",
    "        return action\n",
    "\n",
    "\n",
    "agent = ModelBasedReflexAgent(threshold=22)\n",
    "temperatures = [20, 21, 22, 23, 21, 20, 22, 23]\n",
    "\n",
    "for temp in temperatures:\n",
    "    action = agent.perceive_and_act(temp)\n",
    "    print(f\"Temperature: {temp} -> Action: {action}\")"
   ]
  },
  {
   "cell_type": "code",
   "execution_count": null,
   "id": "9e4be1d9-b905-4222-8b00-938757270323",
   "metadata": {},
   "outputs": [],
   "source": []
  }
 ],
 "metadata": {
  "kernelspec": {
   "display_name": "Python 3 (ipykernel)",
   "language": "python",
   "name": "python3"
  },
  "language_info": {
   "codemirror_mode": {
    "name": "ipython",
    "version": 3
   },
   "file_extension": ".py",
   "mimetype": "text/x-python",
   "name": "python",
   "nbconvert_exporter": "python",
   "pygments_lexer": "ipython3",
   "version": "3.11.7"
  }
 },
 "nbformat": 4,
 "nbformat_minor": 5
}
