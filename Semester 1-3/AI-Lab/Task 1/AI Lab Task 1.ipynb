{
 "cells": [
  {
   "cell_type": "markdown",
   "id": "501c8c86-e17b-467d-952a-880e433a17dd",
   "metadata": {},
   "source": [
    "# Hangman (Dynamic) with printing hangman"
   ]
  },
  {
   "cell_type": "code",
   "execution_count": 1,
   "id": "b1f754cc-4b8d-4c73-8ccd-4771a8bfa501",
   "metadata": {},
   "outputs": [
    {
     "name": "stdout",
     "output_type": "stream",
     "text": [
      "Welcome to Hangman!\n",
      "\n",
      "           -----\n",
      "           |   |\n",
      "           |\n",
      "           |\n",
      "           |\n",
      "           |\n",
      "        \n",
      "Word:  _ _ _ _ _ _\n",
      "Attempts left: 6\n"
     ]
    },
    {
     "name": "stdin",
     "output_type": "stream",
     "text": [
      "Guess a letter:  e\n"
     ]
    },
    {
     "name": "stdout",
     "output_type": "stream",
     "text": [
      "Incorrect guess!\n",
      "\n",
      "           -----\n",
      "           |   |\n",
      "           |   O\n",
      "           |\n",
      "           |\n",
      "           |\n",
      "        \n",
      "Word:  _ _ _ _ _ _\n",
      "Attempts left: 5\n"
     ]
    },
    {
     "name": "stdin",
     "output_type": "stream",
     "text": [
      "Guess a letter:  f \n"
     ]
    },
    {
     "name": "stdout",
     "output_type": "stream",
     "text": [
      "Invalid input. Please enter a single letter.\n",
      "\n",
      "           -----\n",
      "           |   |\n",
      "           |   O\n",
      "           |\n",
      "           |\n",
      "           |\n",
      "        \n",
      "Word:  _ _ _ _ _ _\n",
      "Attempts left: 5\n"
     ]
    },
    {
     "name": "stdin",
     "output_type": "stream",
     "text": [
      "Guess a letter:  g\n"
     ]
    },
    {
     "name": "stdout",
     "output_type": "stream",
     "text": [
      "Incorrect guess!\n",
      "\n",
      "           -----\n",
      "           |   |\n",
      "           |   O\n",
      "           |   |\n",
      "           |\n",
      "           |\n",
      "        \n",
      "Word:  _ _ _ _ _ _\n",
      "Attempts left: 4\n"
     ]
    },
    {
     "name": "stdin",
     "output_type": "stream",
     "text": [
      "Guess a letter:  h \n"
     ]
    },
    {
     "name": "stdout",
     "output_type": "stream",
     "text": [
      "Invalid input. Please enter a single letter.\n",
      "\n",
      "           -----\n",
      "           |   |\n",
      "           |   O\n",
      "           |   |\n",
      "           |\n",
      "           |\n",
      "        \n",
      "Word:  _ _ _ _ _ _\n",
      "Attempts left: 4\n"
     ]
    },
    {
     "name": "stdin",
     "output_type": "stream",
     "text": [
      "Guess a letter:  i\n"
     ]
    },
    {
     "name": "stdout",
     "output_type": "stream",
     "text": [
      "Incorrect guess!\n",
      "\n",
      "           -----\n",
      "           |   |\n",
      "           |   O\n",
      "           |  /|\n",
      "           |\n",
      "           |\n",
      "        \n",
      "Word:  _ _ _ _ _ _\n",
      "Attempts left: 3\n"
     ]
    },
    {
     "name": "stdin",
     "output_type": "stream",
     "text": [
      "Guess a letter:  j\n"
     ]
    },
    {
     "name": "stdout",
     "output_type": "stream",
     "text": [
      "Incorrect guess!\n",
      "\n",
      "           -----\n",
      "           |   |\n",
      "           |   O\n",
      "           |  /|\\\n",
      "           |\n",
      "           |\n",
      "        \n",
      "Word:  _ _ _ _ _ _\n",
      "Attempts left: 2\n"
     ]
    },
    {
     "name": "stdin",
     "output_type": "stream",
     "text": [
      "Guess a letter:  k\n"
     ]
    },
    {
     "name": "stdout",
     "output_type": "stream",
     "text": [
      "Incorrect guess!\n",
      "\n",
      "           -----\n",
      "           |   |\n",
      "           |   O\n",
      "           |  /|\\\n",
      "           |  /\n",
      "           |\n",
      "        \n",
      "Word:  _ _ _ _ _ _\n",
      "Attempts left: 1\n"
     ]
    },
    {
     "name": "stdin",
     "output_type": "stream",
     "text": [
      "Guess a letter:  l\n"
     ]
    },
    {
     "name": "stdout",
     "output_type": "stream",
     "text": [
      "Incorrect guess!\n",
      "\n",
      "           -----\n",
      "           |   |\n",
      "           |   O\n",
      "           |  /|\\\n",
      "           |  / \\\n",
      "           |\n",
      "        \n",
      "Game Over! The word was: python\n"
     ]
    }
   ],
   "source": [
    "import random\n",
    "\n",
    "def choose_word():\n",
    "    words = [\"python\", \"hangman\", \"dynamic\", \"challenge\", \"programming\"]\n",
    "    return random.choice(words)\n",
    "\n",
    "def display_hangman(attempts):\n",
    "    stages = [\n",
    "        \"\"\"\n",
    "           -----\n",
    "           |   |\n",
    "           |   O\n",
    "           |  /|\\\\\n",
    "           |  / \\\\\n",
    "           |\n",
    "        \"\"\",\n",
    "        \"\"\"\n",
    "           -----\n",
    "           |   |\n",
    "           |   O\n",
    "           |  /|\\\\\n",
    "           |  /\n",
    "           |\n",
    "        \"\"\",\n",
    "        \"\"\"\n",
    "           -----\n",
    "           |   |\n",
    "           |   O\n",
    "           |  /|\\\\\n",
    "           |\n",
    "           |\n",
    "        \"\"\",\n",
    "        \"\"\"\n",
    "           -----\n",
    "           |   |\n",
    "           |   O\n",
    "           |  /|\n",
    "           |\n",
    "           |\n",
    "        \"\"\",\n",
    "        \"\"\"\n",
    "           -----\n",
    "           |   |\n",
    "           |   O\n",
    "           |   |\n",
    "           |\n",
    "           |\n",
    "        \"\"\",\n",
    "        \"\"\"\n",
    "           -----\n",
    "           |   |\n",
    "           |   O\n",
    "           |\n",
    "           |\n",
    "           |\n",
    "        \"\"\",\n",
    "        \"\"\"\n",
    "           -----\n",
    "           |   |\n",
    "           |\n",
    "           |\n",
    "           |\n",
    "           |\n",
    "        \"\"\"\n",
    "    ]\n",
    "    return stages[attempts]\n",
    "\n",
    "def play_hangman():\n",
    "    word = choose_word()\n",
    "    word_completion = ['_'] * len(word)\n",
    "    guessed_letters = []\n",
    "    attempts = 6\n",
    "    \n",
    "    print(\"Welcome to Hangman!\")\n",
    "    while attempts > 0 and '_' in word_completion:\n",
    "        print(display_hangman(attempts))\n",
    "        print(\"Word: \", ' '.join(word_completion))\n",
    "        print(\"Attempts left:\", attempts)\n",
    "        guess = input(\"Guess a letter: \").lower()\n",
    "        \n",
    "        if len(guess) != 1 or not guess.isalpha():\n",
    "            print(\"Invalid input. Please enter a single letter.\")\n",
    "            continue\n",
    "        \n",
    "        if guess in guessed_letters:\n",
    "            print(\"You already guessed that letter.\")\n",
    "            continue\n",
    "        \n",
    "        guessed_letters.append(guess)\n",
    "        \n",
    "        if guess in word:\n",
    "            for index, letter in enumerate(word):\n",
    "                if letter == guess:\n",
    "                    word_completion[index] = guess\n",
    "        else:\n",
    "            attempts -= 1\n",
    "            print(\"Incorrect guess!\")\n",
    "    \n",
    "    print(display_hangman(attempts))\n",
    "    if '_' not in word_completion:\n",
    "        print(\"Congratulations! You guessed the word:\", word)\n",
    "    else:\n",
    "        print(\"Game Over! The word was:\", word)\n",
    "\n",
    "if __name__ == \"__main__\":\n",
    "    play_hangman()"
   ]
  },
  {
   "cell_type": "code",
   "execution_count": null,
   "id": "0b7ee261-26b7-4974-b4fb-9e20a5a38c89",
   "metadata": {},
   "outputs": [],
   "source": []
  },
  {
   "cell_type": "code",
   "execution_count": null,
   "id": "2d3d2e82-b890-4167-a18f-bc3d99dd44ba",
   "metadata": {},
   "outputs": [],
   "source": []
  }
 ],
 "metadata": {
  "kernelspec": {
   "display_name": "Python 3 (ipykernel)",
   "language": "python",
   "name": "python3"
  },
  "language_info": {
   "codemirror_mode": {
    "name": "ipython",
    "version": 3
   },
   "file_extension": ".py",
   "mimetype": "text/x-python",
   "name": "python",
   "nbconvert_exporter": "python",
   "pygments_lexer": "ipython3",
   "version": "3.11.7"
  }
 },
 "nbformat": 4,
 "nbformat_minor": 5
}
