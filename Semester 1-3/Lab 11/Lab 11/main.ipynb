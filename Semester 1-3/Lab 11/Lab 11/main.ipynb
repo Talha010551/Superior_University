{
 "cells": [
  {
   "cell_type": "code",
   "execution_count": 14,
   "id": "0c8e1ba7-228a-4f1f-830e-62b08458ae63",
   "metadata": {},
   "outputs": [
    {
     "name": "stdout",
     "output_type": "stream",
     "text": [
      "1. Add Employee\n",
      "2. Display Employees\n",
      "3. Update Employee\n",
      "4. Delete Employee\n",
      "5. Save and Exit\n"
     ]
    },
    {
     "name": "stdin",
     "output_type": "stream",
     "text": [
      "Enter your choice:  4\n",
      "Enter name of employee to delete:  fahad\n"
     ]
    },
    {
     "name": "stdout",
     "output_type": "stream",
     "text": [
      "Employee deleted successfully.\n",
      "1. Add Employee\n",
      "2. Display Employees\n",
      "3. Update Employee\n",
      "4. Delete Employee\n",
      "5. Save and Exit\n"
     ]
    },
    {
     "name": "stdin",
     "output_type": "stream",
     "text": [
      "Enter your choice:  2\n"
     ]
    },
    {
     "name": "stdout",
     "output_type": "stream",
     "text": [
      "Name: mustafa\n",
      "Age: 21\n",
      "Salary: 23000\n",
      "Hours Worked: 12\n",
      "--------------------\n",
      "1. Add Employee\n",
      "2. Display Employees\n",
      "3. Update Employee\n",
      "4. Delete Employee\n",
      "5. Save and Exit\n"
     ]
    },
    {
     "name": "stdin",
     "output_type": "stream",
     "text": [
      "Enter your choice:  5\n"
     ]
    },
    {
     "name": "stdout",
     "output_type": "stream",
     "text": [
      "Exiting...\n"
     ]
    }
   ],
   "source": [
    "from manager import Manager\n",
    "from worker import Worker\n",
    "from file_handler import FileHandler\n",
    "\n",
    "def add_employee(employees):\n",
    "    employee_type = input(\"Enter employee type (manager/worker): \").strip().lower()\n",
    "    name = input(\"Enter name: \")\n",
    "    age = int(input(\"Enter age: \"))\n",
    "    salary = int(input(\"Enter salary: \"))\n",
    "    if employee_type == 'manager':\n",
    "        department = input(\"Enter department: \")\n",
    "        employees.append(Manager(name, age, salary, department))\n",
    "    elif employee_type == 'worker':\n",
    "        hours_worked = int(input(\"Enter hours worked: \"))\n",
    "        employees.append(Worker(name, age, salary, hours_worked))\n",
    "\n",
    "def display_employees(employees):\n",
    "    for employee in employees:\n",
    "        employee.display_info()\n",
    "        print('-' * 20)\n",
    "\n",
    "def update_employee(employees):\n",
    "    name = input(\"Enter the name of the employee to update: \").strip()\n",
    "    for employee in employees:\n",
    "        if employee.get_name() == name:\n",
    "            print(f\"Updating details for {name}:\")\n",
    "            \n",
    "            # Update name\n",
    "            new_name = input(\"Enter new name: \").strip()\n",
    "            employee.set_name(new_name)\n",
    "            \n",
    "            # Update age\n",
    "            new_age = int(input(\"Enter new age: \").strip())\n",
    "            employee.set_age(new_age)\n",
    "            \n",
    "            # Update salary\n",
    "            new_salary = int(input(\"Enter new salary: \").strip())\n",
    "            employee.set_salary(new_salary)\n",
    "            \n",
    "            # Update department if Manager\n",
    "            if isinstance(employee, Manager):\n",
    "                new_department = input(\"Enter new department: \").strip()\n",
    "                employee.set_department(new_department)\n",
    "            \n",
    "            # Update hours worked if Worker\n",
    "            if isinstance(employee, Worker):\n",
    "                new_hours_worked = int(input(\"Enter new hours worked: \").strip())\n",
    "                employee.set_hours_worked(new_hours_worked)\n",
    "            \n",
    "            print(f\"Details for {name} updated successfully!\")\n",
    "            break\n",
    "    else:\n",
    "        print(f\"Employee with name '{name}' not found.\")\n",
    "\n",
    "\n",
    "def delete_employee(employees):\n",
    "    name = input(\"Enter name of employee to delete: \").strip()\n",
    "    updated_employees = [emp for emp in employees if emp.get_name().lower() != name.lower()]\n",
    "\n",
    "    if len(updated_employees) == len(employees):\n",
    "        print(\"Employee not found.\")\n",
    "    else: \n",
    "        FileHandler.save_employees(updated_employees)  # Use FileHandler to save\n",
    "        employees[:] = updated_employees  # Update the original list in place\n",
    "        print(\"Employee deleted successfully.\")\n",
    "\n",
    "\n",
    "def main():\n",
    "    employees = FileHandler.load_employees()\n",
    "\n",
    "    while True:\n",
    "        print(\"1. Add Employee\")\n",
    "        print(\"2. Display Employees\")\n",
    "        print(\"3. Update Employee\")\n",
    "        print(\"4. Delete Employee\")\n",
    "        print(\"5. Save and Exit\")\n",
    "\n",
    "        choice = int(input(\"Enter your choice: \"))\n",
    "\n",
    "        if choice == 1:\n",
    "            add_employee(employees)\n",
    "        elif choice == 2:\n",
    "            display_employees(employees)\n",
    "        elif choice == 3:\n",
    "            update_employee(employees)\n",
    "        elif choice == 4:\n",
    "            delete_employee(employees)\n",
    "        elif choice == 5:\n",
    "            FileHandler.save_employees(employees)\n",
    "            print(\"Exiting...\")\n",
    "            break\n",
    "\n",
    "if __name__ == '__main__':\n",
    "    main()\n"
   ]
  },
  {
   "cell_type": "code",
   "execution_count": null,
   "id": "74ee3630-020d-4396-9d24-12af44715159",
   "metadata": {},
   "outputs": [],
   "source": []
  }
 ],
 "metadata": {
  "kernelspec": {
   "display_name": "Python 3 (ipykernel)",
   "language": "python",
   "name": "python3"
  },
  "language_info": {
   "codemirror_mode": {
    "name": "ipython",
    "version": 3
   },
   "file_extension": ".py",
   "mimetype": "text/x-python",
   "name": "python",
   "nbconvert_exporter": "python",
   "pygments_lexer": "ipython3",
   "version": "3.11.7"
  }
 },
 "nbformat": 4,
 "nbformat_minor": 5
}
