{
 "cells": [
  {
   "cell_type": "code",
   "execution_count": 15,
   "id": "79137ab0-8522-41d4-9b92-ea479fc9aefa",
   "metadata": {},
   "outputs": [
    {
     "name": "stdin",
     "output_type": "stream",
     "text": [
      "Enter course type:  graduate\n",
      "Enter course code:  804\n",
      "Enter course name:  Artificial Intelligence\n",
      "Enter research area:  lahore\n"
     ]
    },
    {
     "name": "stdout",
     "output_type": "stream",
     "text": [
      "Course Code: 804\n",
      "Course Name: Artificial Intelligence\n",
      "Research Area: lahore\n"
     ]
    }
   ],
   "source": [
    "class Course:\n",
    "    def __init__(self, course_code, course_name):\n",
    "        self.course_code = course_code\n",
    "        self.course_name = course_name\n",
    "\n",
    "    def display_info(self):\n",
    "        print(f\"Course Code: {self.course_code}\")\n",
    "        print(f\"Course Name: {self.course_name}\")\n",
    "\n",
    "class UndergraduateCourse(Course):\n",
    "    def __init__(self, course_code, course_name, year_level):\n",
    "        super().__init__(course_code, course_name)\n",
    "        self.year_level = year_level\n",
    "\n",
    "    def additional_info(self):\n",
    "        print(f\"Year Level: {self.year_level}\")\n",
    "\n",
    "class GraduateCourse(Course):\n",
    "    def __init__(self, course_code, course_name, research_area):\n",
    "        super().__init__(course_code, course_name)\n",
    "        self.research_area = research_area\n",
    "\n",
    "    def additional_info(self):\n",
    "        print(f\"Research Area: {self.research_area}\")\n",
    "\n",
    "def register_course():\n",
    "    course_type = input(\"Enter course type: \").strip().lower()\n",
    "    \n",
    "    course_code = input(\"Enter course code: \").strip()\n",
    "    course_name = input(\"Enter course name: \").strip()\n",
    "\n",
    "    if course_type == 'undergraduate':\n",
    "        year_level = input(\"Enter year level: \").strip()\n",
    "        course = UndergraduateCourse(course_code, course_name, year_level)\n",
    "    elif course_type == 'graduate':\n",
    "        research_area = input(\"Enter research area: \").strip()\n",
    "        course = GraduateCourse(course_code, course_name, research_area)\n",
    "    else:\n",
    "        print(\"Invalid course type. \")\n",
    "        return\n",
    "\n",
    "    course.display_info()\n",
    "    course.additional_info()\n",
    "\n",
    "register_course()"
   ]
  },
  {
   "cell_type": "code",
   "execution_count": null,
   "id": "abfd3227-851c-42b3-8db3-620ad84ab3df",
   "metadata": {},
   "outputs": [],
   "source": []
  }
 ],
 "metadata": {
  "kernelspec": {
   "display_name": "Python 3 (ipykernel)",
   "language": "python",
   "name": "python3"
  },
  "language_info": {
   "codemirror_mode": {
    "name": "ipython",
    "version": 3
   },
   "file_extension": ".py",
   "mimetype": "text/x-python",
   "name": "python",
   "nbconvert_exporter": "python",
   "pygments_lexer": "ipython3",
   "version": "3.11.7"
  }
 },
 "nbformat": 4,
 "nbformat_minor": 5
}
