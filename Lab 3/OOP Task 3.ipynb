{
 "cells": [
  {
   "cell_type": "code",
   "execution_count": 4,
   "id": "f78861f6-c190-4f50-8634-60fa541e7a94",
   "metadata": {},
   "outputs": [
    {
     "name": "stdin",
     "output_type": "stream",
     "text": [
      "Enter the width of the rectangle:  6\n",
      "Enter the height of the rectangle:  3\n"
     ]
    },
    {
     "name": "stdout",
     "output_type": "stream",
     "text": [
      "Rectangle: 6.0 x 3.0\n",
      "Area of the rectangle:  18.0\n",
      "Perimeter of the rectangle:  18.0\n"
     ]
    }
   ],
   "source": [
    "class Rectangle:\n",
    "    def __init__(self, width, height):\n",
    "        self.width = width\n",
    "        self.height = height\n",
    "    def __str__(self):\n",
    "        return f\"Rectangle: {self.width} x {self.height}\"\n",
    "\n",
    "    def area(self):\n",
    "        return self.width * self.height\n",
    "\n",
    "    def perimeter(self):\n",
    "        return 2 * (self.width + self.height)\n",
    "\n",
    "    width = float(input(\"Enter the width of the rectangle: \"))\n",
    "    height = float(input(\"Enter the height of the rectangle: \"))\n",
    "    \n",
    "    rectangle = Rectangle(width, height)\n",
    "    \n",
    "    print(rectangle)\n",
    "    \n",
    "    print(\"Area of the rectangle: \", rectangle.area())\n",
    "    print(\"Perimeter of the rectangle: \", rectangle.perimeter())"
   ]
  },
  {
   "cell_type": "code",
   "execution_count": null,
   "id": "f4dd3c38-2e07-4ae7-b2d0-84270cf65b65",
   "metadata": {},
   "outputs": [],
   "source": []
  }
 ],
 "metadata": {
  "kernelspec": {
   "display_name": "Python 3 (ipykernel)",
   "language": "python",
   "name": "python3"
  },
  "language_info": {
   "codemirror_mode": {
    "name": "ipython",
    "version": 3
   },
   "file_extension": ".py",
   "mimetype": "text/x-python",
   "name": "python",
   "nbconvert_exporter": "python",
   "pygments_lexer": "ipython3",
   "version": "3.11.7"
  }
 },
 "nbformat": 4,
 "nbformat_minor": 5
}
