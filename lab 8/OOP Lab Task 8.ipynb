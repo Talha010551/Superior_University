{
 "cells": [
  {
   "cell_type": "code",
   "execution_count": 2,
   "id": "da33b97f-db8d-40bf-b0b1-447e2d00f169",
   "metadata": {},
   "outputs": [
    {
     "name": "stdout",
     "output_type": "stream",
     "text": [
      "\n",
      "Menu:\n",
      "1. Add new employee\n",
      "2. Display all employees\n",
      "3. Exist\n"
     ]
    },
    {
     "name": "stdin",
     "output_type": "stream",
     "text": [
      "Enter your choice:  1\n",
      "Enter employee name:  Talha\n",
      "Enter employee age:  33\n",
      "Enter employee ID:  302\n",
      "Enter employee position:  Worker\n",
      "Enter employee department:  HR\n"
     ]
    },
    {
     "name": "stdout",
     "output_type": "stream",
     "text": [
      "Employee added successfully!\n",
      "\n",
      "Menu:\n",
      "1. Add new employee\n",
      "2. Display all employees\n",
      "3. Exist\n"
     ]
    },
    {
     "name": "stdin",
     "output_type": "stream",
     "text": [
      "Enter your choice:  2\n"
     ]
    },
    {
     "name": "stdout",
     "output_type": "stream",
     "text": [
      "Name: Talha, Age: 33\n",
      "Employee ID: 302, Position: Worker\n",
      "Department: HR\n",
      "\n",
      "Menu:\n",
      "1. Add new employee\n",
      "2. Display all employees\n",
      "3. Exist\n"
     ]
    },
    {
     "name": "stdin",
     "output_type": "stream",
     "text": [
      "Enter your choice:  3\n"
     ]
    }
   ],
   "source": [
    "import csv \n",
    "\n",
    "class Person:\n",
    "    def __init__(self, name, age):\n",
    "        self.name = name\n",
    "        self.age = age\n",
    "\n",
    "    def display_info(self):\n",
    "        print(f\"Name: {self.name}, Age: {self.age}\")\n",
    "\n",
    "class Employee:\n",
    "    def __init__(self, employee_id, position):\n",
    "        self.employee_id = employee_id\n",
    "        self.position = position\n",
    "\n",
    "    def display_info(self):\n",
    "        print(f\"Employee ID: {self.employee_id}, Position: {self.position}\")\n",
    "\n",
    "\n",
    "class Staff(Person, Employee):\n",
    "    def __init__(self, name, age, employee_id, position, department):\n",
    "        Person.__init__(self, name, age)\n",
    "        Employee.__init__(self, employee_id, position)\n",
    "        self.department = department\n",
    "\n",
    "    def display_info(self):\n",
    "        Person.display_info(self)\n",
    "        Employee.display_info(self)\n",
    "        print(f\"Department: {self.department}\")\n",
    "\n",
    "    def additional_info(self):\n",
    "        print(f\"Department: {self.department}\")\n",
    "\n",
    "def save_employee_to_file(employee, filename = 'employees.csv'):\n",
    "    with open(filename, mode = 'a', newline = '') as file:\n",
    "        writer = csv.writer(file)\n",
    "        writer.writerow([employee.name, employee.age, employee.employee_id, employee.position, employee.department])\n",
    "\n",
    "def read_employees_from_file(filename = 'employees.csv'):\n",
    "    employees = []\n",
    "    try:\n",
    "        with open(filename, mode = 'r') as file:\n",
    "            reader = csv.reader(file)\n",
    "            for row in reader:\n",
    "               name, age, employee_id, position, department = row\n",
    "               employee = Staff(name, age, employee_id, position, department)\n",
    "               employees.append(employee)\n",
    "\n",
    "    except FileNotFoundError:\n",
    "        print(\"File not found, creating a new file.\")\n",
    "    return employees\n",
    "\n",
    "def add_new_employee():\n",
    "    name = input(\"Enter employee name: \")\n",
    "    age = input(\"Enter employee age: \")\n",
    "    employee_id = input(\"Enter employee ID: \")\n",
    "    position = input(\"Enter employee position: \")\n",
    "    department = input(\"Enter employee department: \")\n",
    "    new_employee = Staff(name, age, employee_id, position, department)\n",
    "    save_employee_to_file(new_employee)\n",
    "    print(\"Employee added successfully!\")\n",
    "\n",
    "\n",
    "if __name__ == '__main__':\n",
    "    while True:\n",
    "        print(\"\\nMenu:\")\n",
    "        print(\"1. Add new employee\")\n",
    "        print(\"2. Display all employees\")\n",
    "        print(\"3. Exist\")\n",
    "\n",
    "        choice = input(\"Enter your choice: \")\n",
    "\n",
    "        if choice == '1':\n",
    "           add_new_employee()\n",
    "        elif choice == '2':\n",
    "            employees = read_employees_from_file()\n",
    "            for emp in employees:\n",
    "                emp.display_info()\n",
    "        elif choice == '3':\n",
    "            break \n",
    "        else:\n",
    "            print(\"Invalid choice. Please try again.\")                "
   ]
  },
  {
   "cell_type": "code",
   "execution_count": null,
   "id": "774db940-caf0-415e-8b8e-f2a6c07e5897",
   "metadata": {},
   "outputs": [],
   "source": []
  }
 ],
 "metadata": {
  "kernelspec": {
   "display_name": "Python 3 (ipykernel)",
   "language": "python",
   "name": "python3"
  },
  "language_info": {
   "codemirror_mode": {
    "name": "ipython",
    "version": 3
   },
   "file_extension": ".py",
   "mimetype": "text/x-python",
   "name": "python",
   "nbconvert_exporter": "python",
   "pygments_lexer": "ipython3",
   "version": "3.11.7"
  }
 },
 "nbformat": 4,
 "nbformat_minor": 5
}
