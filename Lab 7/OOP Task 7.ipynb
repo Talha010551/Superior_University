{
 "cells": [
  {
   "cell_type": "markdown",
   "id": "14572126-9121-47f8-b1bd-5be31b61751a",
   "metadata": {},
   "source": [
    "# Task 1"
   ]
  },
  {
   "cell_type": "code",
   "execution_count": 8,
   "id": "c392a37c-82fa-4dd0-8515-a5774bf0aea3",
   "metadata": {},
   "outputs": [
    {
     "name": "stdout",
     "output_type": "stream",
     "text": [
      "Vehicle Make: Toyota, Model: Corolla\n",
      "Vehicle Make: Honda, Model: Civic\n",
      "Number of Doors: 4\n",
      "Vehicle Make: Range Rover, Model: 9 series\n",
      "Luxury Features: Leather seats, Sunroof, Navigation system\n"
     ]
    }
   ],
   "source": [
    "class Vehicle:\n",
    "    def __init__(self, make, model):\n",
    "        self.make = make\n",
    "        self.model = model\n",
    "        \n",
    "    def display_info(self):\n",
    "        return f\"Vehicle Make: {self.make}, Model: {self.model}\"\n",
    "\n",
    "class Car(Vehicle):\n",
    "    def __init__(self, make, model, num_doors):\n",
    "        super().__init__(make, model)\n",
    "        self.num_doors = num_doors\n",
    "\n",
    "    def additional_info(self):\n",
    "        return f\"Number of Doors: {self.num_doors}\"\n",
    "\n",
    "class LuxuryCar(Car):\n",
    "    def __init__(self, make, model, num_doors, features):\n",
    "        super().__init__(make, model, num_doors)\n",
    "        self.features = features \n",
    "        \n",
    "    def additional_info(self):\n",
    "        return f\"Luxury Features: {', '.join(self.features)}\"\n",
    "\n",
    "\n",
    "vehicle = Vehicle(\"Toyota\", \"Corolla\")\n",
    "car = Car(\"Honda\", \"Civic\", 4)\n",
    "luxury_car = LuxuryCar(\"Range Rover\", \"9 series\", 4, [\"Leather seats\", \"Sunroof\", \"Navigation system\"])\n",
    "\n",
    "print(vehicle.display_info())\n",
    "print(car.display_info())\n",
    "print(car.additional_info())\n",
    "print(luxury_car.display_info())\n",
    "print(luxury_car.additional_info())"
   ]
  },
  {
   "cell_type": "markdown",
   "id": "875be29b-fb00-402b-9616-73419853861e",
   "metadata": {},
   "source": [
    "# Task 2"
   ]
  },
  {
   "cell_type": "code",
   "execution_count": 10,
   "id": "ad5c9101-da89-4b74-9729-3068bbdb3e76",
   "metadata": {},
   "outputs": [
    {
     "name": "stdout",
     "output_type": "stream",
     "text": [
      "Manager Info: \n",
      "Name: Hamza, Position: Senior Manager\n",
      "Department: Sales\n",
      "Worker Info: \n",
      "Name: Hammad, Position: Sales Associate\n",
      "Hours Worked: 14\n"
     ]
    }
   ],
   "source": [
    "class Employee:\n",
    "    def __init__(self, name, position):\n",
    "        self.name = name\n",
    "        self.position = position\n",
    "\n",
    "    def display_info(self):\n",
    "        print(f\"Name: {self.name}, Position: {self.position}\")\n",
    "\n",
    "class Manager(Employee):\n",
    "    def __init__(self, name, position, department):\n",
    "        super().__init__(name, position)\n",
    "        self.department = department\n",
    "\n",
    "    def additional_info(self):\n",
    "        print(f\"Department: {self.department}\")\n",
    "\n",
    "class Worker(Employee):\n",
    "    def __init__(self, name, position, hours_worked):\n",
    "        super().__init__(name, position)\n",
    "        self.hours_worked = hours_worked\n",
    "\n",
    "    def additional_info(self):\n",
    "        print(f\"Hours Worked: {self.hours_worked}\")\n",
    "\n",
    "manager = Manager(\"Hamza\", \"Senior Manager\", \"Sales\")\n",
    "worker = Worker(\"Hammad\", \"Sales Associate\", 14)\n",
    "\n",
    "print(\"Manager Info: \")\n",
    "manager.display_info()\n",
    "manager.additional_info()\n",
    "\n",
    "print(\"Worker Info: \")\n",
    "worker.display_info()\n",
    "worker.additional_info()"
   ]
  },
  {
   "cell_type": "code",
   "execution_count": null,
   "id": "c1749ac2-eb2b-471e-8f8a-ab2a17594660",
   "metadata": {},
   "outputs": [],
   "source": []
  }
 ],
 "metadata": {
  "kernelspec": {
   "display_name": "Python 3 (ipykernel)",
   "language": "python",
   "name": "python3"
  },
  "language_info": {
   "codemirror_mode": {
    "name": "ipython",
    "version": 3
   },
   "file_extension": ".py",
   "mimetype": "text/x-python",
   "name": "python",
   "nbconvert_exporter": "python",
   "pygments_lexer": "ipython3",
   "version": "3.11.7"
  }
 },
 "nbformat": 4,
 "nbformat_minor": 5
}
